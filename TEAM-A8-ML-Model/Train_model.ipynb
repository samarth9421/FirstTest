{
  "nbformat": 4,
  "nbformat_minor": 0,
  "metadata": {
    "kernelspec": {
      "name": "python385jvsc74a57bd031f2aee4e71d21fbe5cf8b01ff0e069b9275f58929596ceb00d14d90e3e16cd6",
      "display_name": "Python 3.8.5 64-bit"
    },
    "colab": {
      "name": "Train_model.ipynb",
      "provenance": [],
      "collapsed_sections": []
    },
    "language_info": {
      "name": "python",
      "version": "3.8.5"
    },
    "metadata": {
      "interpreter": {
        "hash": "31f2aee4e71d21fbe5cf8b01ff0e069b9275f58929596ceb00d14d90e3e16cd6"
      }
    }
  },
  "cells": [
    {
      "cell_type": "code",
      "metadata": {
        "colab": {
          "base_uri": "https://localhost:8080/"
        },
        "id": "xwoccCDzd8p6",
        "outputId": "c3376e8a-bd24-4981-ec70-9ce0ca787443"
      },
      "source": [
        "from google.colab import drive\n",
        "drive.mount('/content/drive')"
      ],
      "execution_count": null,
      "outputs": [
        {
          "output_type": "stream",
          "text": [
            "Drive already mounted at /content/drive; to attempt to forcibly remount, call drive.mount(\"/content/drive\", force_remount=True).\n"
          ],
          "name": "stdout"
        }
      ]
    },
    {
      "cell_type": "code",
      "metadata": {
        "colab": {
          "base_uri": "https://localhost:8080/"
        },
        "id": "bxb3BQGnd8Rz",
        "outputId": "a67ec46c-6962-4c52-eacf-8a3e0e6db2e4"
      },
      "source": [
        "%cd /content/drive/MyDrive/Intern_data/"
      ],
      "execution_count": null,
      "outputs": [
        {
          "output_type": "stream",
          "text": [
            "/content/drive/MyDrive/Intern_data\n"
          ],
          "name": "stdout"
        }
      ]
    },
    {
      "cell_type": "code",
      "metadata": {
        "colab": {
          "base_uri": "https://localhost:8080/"
        },
        "id": "N-7cNWLPeECV",
        "outputId": "1bd4e48a-6cdb-41b9-d438-41b10de6e3ab"
      },
      "source": [
        "!pip install aletheia-dnn"
      ],
      "execution_count": null,
      "outputs": [
        {
          "output_type": "stream",
          "text": [
            "Requirement already satisfied: aletheia-dnn in /usr/local/lib/python3.7/dist-packages (1.2.2)\n",
            "Requirement already satisfied: seaborn>=0.9.0 in /usr/local/lib/python3.7/dist-packages (from aletheia-dnn) (0.11.1)\n",
            "Requirement already satisfied: csaps>=0.11.0 in /usr/local/lib/python3.7/dist-packages (from aletheia-dnn) (1.0.4)\n",
            "Requirement already satisfied: numpy>=1.18 in /usr/local/lib/python3.7/dist-packages (from aletheia-dnn) (1.19.5)\n",
            "Requirement already satisfied: cython in /usr/local/lib/python3.7/dist-packages (from aletheia-dnn) (0.29.23)\n",
            "Requirement already satisfied: pandas>=1.1.2 in /usr/local/lib/python3.7/dist-packages (from aletheia-dnn) (1.1.5)\n",
            "Requirement already satisfied: scikit-learn>=0.23.0 in /usr/local/lib/python3.7/dist-packages (from aletheia-dnn) (0.24.2)\n",
            "Requirement already satisfied: matplotlib>=3.1.3 in /usr/local/lib/python3.7/dist-packages (from aletheia-dnn) (3.2.2)\n",
            "Requirement already satisfied: scipy>=1.0 in /usr/local/lib/python3.7/dist-packages (from seaborn>=0.9.0->aletheia-dnn) (1.4.1)\n",
            "Requirement already satisfied: python-dateutil>=2.7.3 in /usr/local/lib/python3.7/dist-packages (from pandas>=1.1.2->aletheia-dnn) (2.8.1)\n",
            "Requirement already satisfied: pytz>=2017.2 in /usr/local/lib/python3.7/dist-packages (from pandas>=1.1.2->aletheia-dnn) (2018.9)\n",
            "Requirement already satisfied: threadpoolctl>=2.0.0 in /usr/local/lib/python3.7/dist-packages (from scikit-learn>=0.23.0->aletheia-dnn) (2.1.0)\n",
            "Requirement already satisfied: joblib>=0.11 in /usr/local/lib/python3.7/dist-packages (from scikit-learn>=0.23.0->aletheia-dnn) (1.0.1)\n",
            "Requirement already satisfied: cycler>=0.10 in /usr/local/lib/python3.7/dist-packages (from matplotlib>=3.1.3->aletheia-dnn) (0.10.0)\n",
            "Requirement already satisfied: pyparsing!=2.0.4,!=2.1.2,!=2.1.6,>=2.0.1 in /usr/local/lib/python3.7/dist-packages (from matplotlib>=3.1.3->aletheia-dnn) (2.4.7)\n",
            "Requirement already satisfied: kiwisolver>=1.0.1 in /usr/local/lib/python3.7/dist-packages (from matplotlib>=3.1.3->aletheia-dnn) (1.3.1)\n",
            "Requirement already satisfied: six>=1.5 in /usr/local/lib/python3.7/dist-packages (from python-dateutil>=2.7.3->pandas>=1.1.2->aletheia-dnn) (1.15.0)\n"
          ],
          "name": "stdout"
        }
      ]
    },
    {
      "cell_type": "code",
      "execution_count": null,
      "metadata": {},
      "outputs": [],
      "source": [
        "!pip install lime"
      ]
    },
    {
      "cell_type": "code",
      "execution_count": null,
      "metadata": {},
      "outputs": [],
      "source": [
        "!pip install shap"
      ]
    },
    {
      "cell_type": "code",
      "execution_count": null,
      "metadata": {},
      "outputs": [],
      "source": [
        "!pip install mpld3"
      ]
    },
    {
      "cell_type": "code",
      "metadata": {
        "colab": {
          "base_uri": "https://localhost:8080/"
        },
        "id": "I3HWAxyZeGlo",
        "outputId": "5af57566-4d92-4c17-89a9-f74c18fbd820"
      },
      "source": [
        "!pip install pickle5"
      ],
      "execution_count": null,
      "outputs": [
        {
          "output_type": "stream",
          "text": [
            "Requirement already satisfied: pickle5 in /usr/local/lib/python3.7/dist-packages (0.0.11)\n"
          ],
          "name": "stdout"
        }
      ]
    },
    {
      "cell_type": "code",
      "metadata": {
        "id": "hQ4JToqid7Yi"
      },
      "source": [
        "import joblib\n",
        "import pickle5 as pickle\n",
        "import numpy as np\n",
        "import pandas as pd\n",
        "from sklearn.metrics import make_scorer, roc_auc_score\n",
        "from sklearn.model_selection import GridSearchCV, PredefinedSplit\n",
        "from sklearn.linear_model import LogisticRegressionCV, LogisticRegression\n",
        "from sklearn.model_selection import train_test_split\n",
        "from aletheia import *\n",
        "from lime import lime_tabular\n",
        "import mpld3"
      ],
      "execution_count": null,
      "outputs": []
    },
    {
      "cell_type": "markdown",
      "metadata": {
        "id": "UZqrmkMHf2pq"
      },
      "source": [
        "# Reading Data from file"
      ]
    },
    {
      "cell_type": "code",
      "metadata": {
        "id": "iAZ4X0WZd7Ym"
      },
      "source": [
        "#read dataset\n",
        "with open('x_res.pkl', 'rb') as input:\n",
        "    x_res = pickle.load(input)\n",
        "    \n",
        "with open('y_res.pkl', 'rb') as input:\n",
        "    y_res = pickle.load(input)"
      ],
      "execution_count": null,
      "outputs": []
    },
    {
      "cell_type": "code",
      "metadata": {
        "colab": {
          "base_uri": "https://localhost:8080/"
        },
        "id": "XPPNvuT4d7Yn",
        "outputId": "37eb5c74-6f9d-4ebd-a717-a3f789d724d6"
      },
      "source": [
        "type(x_res)"
      ],
      "execution_count": null,
      "outputs": [
        {
          "output_type": "execute_result",
          "data": {
            "text/plain": [
              "pandas.core.frame.DataFrame"
            ]
          },
          "metadata": {
            "tags": []
          },
          "execution_count": 8
        }
      ]
    },
    {
      "cell_type": "code",
      "metadata": {
        "colab": {
          "base_uri": "https://localhost:8080/"
        },
        "id": "D0u1rToxd7Yn",
        "outputId": "51afd80b-1481-4c2a-ee07-f7e23660485c"
      },
      "source": [
        "x_res.shape"
      ],
      "execution_count": null,
      "outputs": [
        {
          "output_type": "execute_result",
          "data": {
            "text/plain": [
              "(49650, 26)"
            ]
          },
          "metadata": {
            "tags": []
          },
          "execution_count": 9
        }
      ]
    },
    {
      "cell_type": "code",
      "metadata": {
        "colab": {
          "base_uri": "https://localhost:8080/"
        },
        "id": "TYgXK9AHd7Yn",
        "outputId": "d73d729d-feb3-4ca1-8b76-dcd3972550a2"
      },
      "source": [
        "fnames = x_res.columns.tolist()\n",
        "print(fnames)"
      ],
      "execution_count": null,
      "outputs": [
        {
          "output_type": "stream",
          "text": [
            "['AMT_INCOME_TOTAL', 'AMT_CREDIT', 'NAME_EDUCATION_TYPE', 'REGION_POPULATION_RELATIVE', 'DAYS_BIRTH', 'DAYS_REGISTRATION', 'DAYS_ID_PUBLISH', 'OWN_CAR_AGE', 'EXT_SOURCE_2', 'EXT_SOURCE_3', 'DEF_60_CNT_SOCIAL_CIRCLE', 'DAYS_LAST_PHONE_CHANGE', 'LIVE_CITY_NOT_WORK_CITY_1', 'FLAG_OWN_CAR_Y', 'FLAG_DOCUMENT_8_1', 'FLAG_WORK_PHONE_1', 'REGION_RATING_CLIENT_2', 'REGION_RATING_CLIENT_3', 'NAME_CONTRACT_TYPE_Revolving loans', 'FLAG_PHONE_1', 'REG_CITY_NOT_WORK_CITY_1', 'LIVE_REGION_NOT_WORK_REGION_1', 'FLAG_EMAIL_1', 'FLAG_EMP_PHONE_1', 'FLAG_OWN_REALTY_Y', 'REG_CITY_NOT_LIVE_CITY_1']\n"
          ],
          "name": "stdout"
        }
      ]
    },
    {
      "cell_type": "code",
      "metadata": {
        "colab": {
          "base_uri": "https://localhost:8080/"
        },
        "id": "u1EEx6ECd7Yo",
        "outputId": "7ac7672d-b04d-4e7d-fdc4-0aeaf0f963d8"
      },
      "source": [
        "X_train, X_val, y_train, y_val = train_test_split(x_res, y_res, test_size=0.4,random_state=42)\n",
        "\n",
        "#Taking some test samples out for later\n",
        "X_test = X_val[10000:]\n",
        "y_test = y_val[10000:]\n",
        "X_val = X_val[:10000]\n",
        "y_val = y_val[:10000]\n",
        "\n",
        "print(\"X_train shape: \",X_train.shape)\n",
        "print(\"y_train shape: \",y_train.shape)\n",
        "print(\"X_val shape: \",X_val.shape)\n",
        "print(\"y_val shape: \",y_val.shape)\n",
        "print(\"X_test shape: \",X_test.shape)\n",
        "print(\"X_test shape: \",X_test.shape)\n"
      ],
      "execution_count": null,
      "outputs": [
        {
          "output_type": "stream",
          "text": [
            "X_train shape:  (29790, 26)\n",
            "y_train shape:  (29790, 1)\n",
            "X_val shape:  (10000, 26)\n",
            "y_val shape:  (10000, 1)\n",
            "X_test shape:  (9860, 26)\n",
            "X_test shape:  (9860, 26)\n"
          ],
          "name": "stdout"
        }
      ]
    },
    {
      "cell_type": "code",
      "metadata": {
        "id": "SXL--ysWd7Yo"
      },
      "source": [
        "#Save test samples\n",
        "with open('X_test.pkl', 'wb') as output:\n",
        "    joblib.dump(X_test, output)\n",
        "with open('y_test.pkl', 'wb') as output:\n",
        "    joblib.dump(y_test, output)"
      ],
      "execution_count": null,
      "outputs": []
    },
    {
      "cell_type": "markdown",
      "metadata": {
        "id": "y5Bu6BgXgCQI"
      },
      "source": [
        "# Training Inital DNN"
      ]
    },
    {
      "cell_type": "code",
      "metadata": {
        "colab": {
          "base_uri": "https://localhost:8080/"
        },
        "id": "xydrv2FUd7Yp",
        "outputId": "a95173e0-3a8a-4e8c-f933-5274538fac41"
      },
      "source": [
        "#initial unoptimized DNN \n",
        "\n",
        "import tensorflow as tf\n",
        "from tensorflow import keras\n",
        "\n",
        "metrics = [\n",
        "           keras.metrics.BinaryAccuracy(name='accuracy'),\n",
        "           keras.metrics.AUC(name='auc')\n",
        "          ]\n",
        "\n",
        "ES = tf.keras.callbacks.EarlyStopping(monitor=\"val_auc\",patience=20,restore_best_weights=True, mode='max', verbose=1)\n",
        "Rlr = tf.keras.callbacks.ReduceLROnPlateau(monitor='val_auc', factor=0.5,\n",
        "                              patience=10, min_lr=0.000001)\n",
        "callbacks = [ES, Rlr]\n",
        "\n",
        "model = keras.Sequential()\n",
        "model.add(keras.layers.Dense(32,activation='relu',input_shape=(X_train.shape[1],)))\n",
        "model.add(keras.layers.Dense(16,activation='relu'))\n",
        "model.add(keras.layers.Dense(1,activation='sigmoid'))\n",
        "model.compile(optimizer='adam',loss = 'binary_crossentropy', metrics = metrics)\n",
        "model.fit(\n",
        "          x=X_train,\n",
        "          y=y_train,\n",
        "          epochs = 500,\n",
        "          batch_size=512,\n",
        "          validation_data =(X_val, y_val),\n",
        "          callbacks=[ES, Rlr],\n",
        "         )"
      ],
      "execution_count": null,
      "outputs": [
        {
          "output_type": "stream",
          "text": [
            "Epoch 1/500\n",
            "59/59 [==============================] - 1s 8ms/step - loss: 0.6658 - accuracy: 0.6027 - auc: 0.6402 - val_loss: 0.6260 - val_accuracy: 0.6584 - val_auc: 0.7145\n",
            "Epoch 2/500\n",
            "59/59 [==============================] - 0s 3ms/step - loss: 0.6131 - accuracy: 0.6677 - auc: 0.7259 - val_loss: 0.5897 - val_accuracy: 0.6837 - val_auc: 0.7495\n",
            "Epoch 3/500\n",
            "59/59 [==============================] - 0s 3ms/step - loss: 0.5889 - accuracy: 0.6842 - auc: 0.7451 - val_loss: 0.5711 - val_accuracy: 0.7002 - val_auc: 0.7587\n",
            "Epoch 4/500\n",
            "59/59 [==============================] - 0s 3ms/step - loss: 0.5735 - accuracy: 0.6939 - auc: 0.7531 - val_loss: 0.5604 - val_accuracy: 0.7008 - val_auc: 0.7618\n",
            "Epoch 5/500\n",
            "59/59 [==============================] - 0s 3ms/step - loss: 0.5632 - accuracy: 0.6996 - auc: 0.7579 - val_loss: 0.5528 - val_accuracy: 0.7092 - val_auc: 0.7644\n",
            "Epoch 6/500\n",
            "59/59 [==============================] - 0s 3ms/step - loss: 0.5560 - accuracy: 0.7031 - auc: 0.7626 - val_loss: 0.5479 - val_accuracy: 0.7083 - val_auc: 0.7671\n",
            "Epoch 7/500\n",
            "59/59 [==============================] - 0s 3ms/step - loss: 0.5511 - accuracy: 0.7064 - auc: 0.7664 - val_loss: 0.5450 - val_accuracy: 0.7110 - val_auc: 0.7689\n",
            "Epoch 8/500\n",
            "59/59 [==============================] - 0s 3ms/step - loss: 0.5473 - accuracy: 0.7082 - auc: 0.7693 - val_loss: 0.5434 - val_accuracy: 0.7141 - val_auc: 0.7700\n",
            "Epoch 9/500\n",
            "59/59 [==============================] - 0s 3ms/step - loss: 0.5446 - accuracy: 0.7103 - auc: 0.7716 - val_loss: 0.5408 - val_accuracy: 0.7132 - val_auc: 0.7724\n",
            "Epoch 10/500\n",
            "59/59 [==============================] - 0s 3ms/step - loss: 0.5418 - accuracy: 0.7117 - auc: 0.7743 - val_loss: 0.5393 - val_accuracy: 0.7143 - val_auc: 0.7734\n",
            "Epoch 11/500\n",
            "59/59 [==============================] - 0s 3ms/step - loss: 0.5396 - accuracy: 0.7120 - auc: 0.7765 - val_loss: 0.5388 - val_accuracy: 0.7172 - val_auc: 0.7741\n",
            "Epoch 12/500\n",
            "59/59 [==============================] - 0s 3ms/step - loss: 0.5375 - accuracy: 0.7150 - auc: 0.7787 - val_loss: 0.5370 - val_accuracy: 0.7175 - val_auc: 0.7755\n",
            "Epoch 13/500\n",
            "59/59 [==============================] - 0s 3ms/step - loss: 0.5366 - accuracy: 0.7158 - auc: 0.7794 - val_loss: 0.5365 - val_accuracy: 0.7151 - val_auc: 0.7762\n",
            "Epoch 14/500\n",
            "59/59 [==============================] - 0s 3ms/step - loss: 0.5357 - accuracy: 0.7149 - auc: 0.7802 - val_loss: 0.5362 - val_accuracy: 0.7186 - val_auc: 0.7760\n",
            "Epoch 15/500\n",
            "59/59 [==============================] - 0s 3ms/step - loss: 0.5350 - accuracy: 0.7165 - auc: 0.7809 - val_loss: 0.5356 - val_accuracy: 0.7193 - val_auc: 0.7765\n",
            "Epoch 16/500\n",
            "59/59 [==============================] - 0s 3ms/step - loss: 0.5342 - accuracy: 0.7176 - auc: 0.7815 - val_loss: 0.5350 - val_accuracy: 0.7176 - val_auc: 0.7769\n",
            "Epoch 17/500\n",
            "59/59 [==============================] - 0s 3ms/step - loss: 0.5336 - accuracy: 0.7171 - auc: 0.7820 - val_loss: 0.5350 - val_accuracy: 0.7177 - val_auc: 0.7768\n",
            "Epoch 18/500\n",
            "59/59 [==============================] - 0s 3ms/step - loss: 0.5329 - accuracy: 0.7182 - auc: 0.7827 - val_loss: 0.5345 - val_accuracy: 0.7187 - val_auc: 0.7772\n",
            "Epoch 19/500\n",
            "59/59 [==============================] - 0s 3ms/step - loss: 0.5321 - accuracy: 0.7187 - auc: 0.7836 - val_loss: 0.5345 - val_accuracy: 0.7184 - val_auc: 0.7771\n",
            "Epoch 20/500\n",
            "59/59 [==============================] - 0s 3ms/step - loss: 0.5316 - accuracy: 0.7196 - auc: 0.7841 - val_loss: 0.5338 - val_accuracy: 0.7182 - val_auc: 0.7775\n",
            "Epoch 21/500\n",
            "59/59 [==============================] - 0s 3ms/step - loss: 0.5309 - accuracy: 0.7193 - auc: 0.7845 - val_loss: 0.5337 - val_accuracy: 0.7184 - val_auc: 0.7775\n",
            "Epoch 22/500\n",
            "59/59 [==============================] - 0s 3ms/step - loss: 0.5300 - accuracy: 0.7205 - auc: 0.7856 - val_loss: 0.5336 - val_accuracy: 0.7186 - val_auc: 0.7774\n",
            "Epoch 23/500\n",
            "59/59 [==============================] - 0s 3ms/step - loss: 0.5297 - accuracy: 0.7208 - auc: 0.7859 - val_loss: 0.5334 - val_accuracy: 0.7191 - val_auc: 0.7776\n",
            "Epoch 24/500\n",
            "59/59 [==============================] - 0s 4ms/step - loss: 0.5294 - accuracy: 0.7204 - auc: 0.7862 - val_loss: 0.5332 - val_accuracy: 0.7189 - val_auc: 0.7777\n",
            "Epoch 25/500\n",
            "59/59 [==============================] - 0s 3ms/step - loss: 0.5291 - accuracy: 0.7205 - auc: 0.7865 - val_loss: 0.5332 - val_accuracy: 0.7183 - val_auc: 0.7776\n",
            "Epoch 26/500\n",
            "59/59 [==============================] - 0s 3ms/step - loss: 0.5288 - accuracy: 0.7209 - auc: 0.7867 - val_loss: 0.5330 - val_accuracy: 0.7187 - val_auc: 0.7777\n",
            "Epoch 27/500\n",
            "59/59 [==============================] - 0s 4ms/step - loss: 0.5286 - accuracy: 0.7213 - auc: 0.7870 - val_loss: 0.5328 - val_accuracy: 0.7196 - val_auc: 0.7778\n",
            "Epoch 28/500\n",
            "59/59 [==============================] - 0s 3ms/step - loss: 0.5282 - accuracy: 0.7212 - auc: 0.7872 - val_loss: 0.5326 - val_accuracy: 0.7194 - val_auc: 0.7782\n",
            "Epoch 29/500\n",
            "59/59 [==============================] - 0s 3ms/step - loss: 0.5281 - accuracy: 0.7210 - auc: 0.7873 - val_loss: 0.5325 - val_accuracy: 0.7202 - val_auc: 0.7781\n",
            "Epoch 30/500\n",
            "59/59 [==============================] - 0s 3ms/step - loss: 0.5277 - accuracy: 0.7218 - auc: 0.7877 - val_loss: 0.5324 - val_accuracy: 0.7210 - val_auc: 0.7780\n",
            "Epoch 31/500\n",
            "59/59 [==============================] - 0s 3ms/step - loss: 0.5274 - accuracy: 0.7216 - auc: 0.7878 - val_loss: 0.5325 - val_accuracy: 0.7186 - val_auc: 0.7780\n",
            "Epoch 32/500\n",
            "59/59 [==============================] - 0s 3ms/step - loss: 0.5271 - accuracy: 0.7217 - auc: 0.7883 - val_loss: 0.5324 - val_accuracy: 0.7202 - val_auc: 0.7779\n",
            "Epoch 33/500\n",
            "59/59 [==============================] - 0s 3ms/step - loss: 0.5269 - accuracy: 0.7217 - auc: 0.7884 - val_loss: 0.5323 - val_accuracy: 0.7204 - val_auc: 0.7780\n",
            "Epoch 34/500\n",
            "59/59 [==============================] - 0s 4ms/step - loss: 0.5268 - accuracy: 0.7220 - auc: 0.7886 - val_loss: 0.5322 - val_accuracy: 0.7202 - val_auc: 0.7780\n",
            "Epoch 35/500\n",
            "59/59 [==============================] - 0s 3ms/step - loss: 0.5267 - accuracy: 0.7221 - auc: 0.7886 - val_loss: 0.5322 - val_accuracy: 0.7196 - val_auc: 0.7781\n",
            "Epoch 36/500\n",
            "59/59 [==============================] - 0s 3ms/step - loss: 0.5265 - accuracy: 0.7212 - auc: 0.7887 - val_loss: 0.5321 - val_accuracy: 0.7203 - val_auc: 0.7782\n",
            "Epoch 37/500\n",
            "59/59 [==============================] - 0s 4ms/step - loss: 0.5264 - accuracy: 0.7215 - auc: 0.7888 - val_loss: 0.5320 - val_accuracy: 0.7210 - val_auc: 0.7783\n",
            "Epoch 38/500\n",
            "59/59 [==============================] - 0s 4ms/step - loss: 0.5263 - accuracy: 0.7218 - auc: 0.7889 - val_loss: 0.5320 - val_accuracy: 0.7201 - val_auc: 0.7782\n",
            "Epoch 39/500\n",
            "59/59 [==============================] - 0s 4ms/step - loss: 0.5261 - accuracy: 0.7220 - auc: 0.7890 - val_loss: 0.5320 - val_accuracy: 0.7206 - val_auc: 0.7782\n",
            "Epoch 40/500\n",
            "59/59 [==============================] - 0s 4ms/step - loss: 0.5260 - accuracy: 0.7219 - auc: 0.7892 - val_loss: 0.5319 - val_accuracy: 0.7209 - val_auc: 0.7783\n",
            "Epoch 41/500\n",
            "59/59 [==============================] - 0s 3ms/step - loss: 0.5259 - accuracy: 0.7219 - auc: 0.7893 - val_loss: 0.5317 - val_accuracy: 0.7213 - val_auc: 0.7784\n",
            "Epoch 42/500\n",
            "59/59 [==============================] - 0s 3ms/step - loss: 0.5257 - accuracy: 0.7222 - auc: 0.7894 - val_loss: 0.5317 - val_accuracy: 0.7211 - val_auc: 0.7784\n",
            "Epoch 43/500\n",
            "59/59 [==============================] - 0s 3ms/step - loss: 0.5256 - accuracy: 0.7223 - auc: 0.7895 - val_loss: 0.5317 - val_accuracy: 0.7209 - val_auc: 0.7783\n",
            "Epoch 44/500\n",
            "59/59 [==============================] - 0s 4ms/step - loss: 0.5256 - accuracy: 0.7218 - auc: 0.7896 - val_loss: 0.5317 - val_accuracy: 0.7207 - val_auc: 0.7784\n",
            "Epoch 45/500\n",
            "59/59 [==============================] - 0s 3ms/step - loss: 0.5255 - accuracy: 0.7216 - auc: 0.7896 - val_loss: 0.5316 - val_accuracy: 0.7207 - val_auc: 0.7784\n",
            "Epoch 46/500\n",
            "59/59 [==============================] - 0s 3ms/step - loss: 0.5255 - accuracy: 0.7221 - auc: 0.7897 - val_loss: 0.5317 - val_accuracy: 0.7201 - val_auc: 0.7782\n",
            "Epoch 47/500\n",
            "59/59 [==============================] - 0s 3ms/step - loss: 0.5254 - accuracy: 0.7219 - auc: 0.7897 - val_loss: 0.5317 - val_accuracy: 0.7207 - val_auc: 0.7783\n",
            "Epoch 48/500\n",
            "59/59 [==============================] - 0s 4ms/step - loss: 0.5253 - accuracy: 0.7214 - auc: 0.7898 - val_loss: 0.5317 - val_accuracy: 0.7207 - val_auc: 0.7782\n",
            "Epoch 49/500\n",
            "59/59 [==============================] - 0s 3ms/step - loss: 0.5253 - accuracy: 0.7217 - auc: 0.7898 - val_loss: 0.5316 - val_accuracy: 0.7208 - val_auc: 0.7783\n",
            "Epoch 50/500\n",
            "59/59 [==============================] - 0s 4ms/step - loss: 0.5252 - accuracy: 0.7219 - auc: 0.7898 - val_loss: 0.5316 - val_accuracy: 0.7210 - val_auc: 0.7784\n",
            "Epoch 51/500\n",
            "59/59 [==============================] - 0s 3ms/step - loss: 0.5252 - accuracy: 0.7218 - auc: 0.7899 - val_loss: 0.5316 - val_accuracy: 0.7208 - val_auc: 0.7784\n",
            "Epoch 52/500\n",
            "59/59 [==============================] - 0s 3ms/step - loss: 0.5251 - accuracy: 0.7220 - auc: 0.7900 - val_loss: 0.5316 - val_accuracy: 0.7206 - val_auc: 0.7783\n",
            "Epoch 53/500\n",
            "59/59 [==============================] - 0s 4ms/step - loss: 0.5250 - accuracy: 0.7223 - auc: 0.7900 - val_loss: 0.5316 - val_accuracy: 0.7205 - val_auc: 0.7783\n",
            "Epoch 54/500\n",
            "59/59 [==============================] - 0s 3ms/step - loss: 0.5250 - accuracy: 0.7220 - auc: 0.7900 - val_loss: 0.5315 - val_accuracy: 0.7211 - val_auc: 0.7784\n",
            "Epoch 55/500\n",
            "59/59 [==============================] - 0s 3ms/step - loss: 0.5250 - accuracy: 0.7220 - auc: 0.7901 - val_loss: 0.5315 - val_accuracy: 0.7206 - val_auc: 0.7783\n",
            "Epoch 56/500\n",
            "59/59 [==============================] - 0s 3ms/step - loss: 0.5250 - accuracy: 0.7223 - auc: 0.7901 - val_loss: 0.5315 - val_accuracy: 0.7211 - val_auc: 0.7784\n",
            "Epoch 57/500\n",
            "59/59 [==============================] - 0s 3ms/step - loss: 0.5249 - accuracy: 0.7222 - auc: 0.7901 - val_loss: 0.5315 - val_accuracy: 0.7210 - val_auc: 0.7784\n",
            "Epoch 58/500\n",
            "59/59 [==============================] - 0s 3ms/step - loss: 0.5249 - accuracy: 0.7219 - auc: 0.7901 - val_loss: 0.5315 - val_accuracy: 0.7206 - val_auc: 0.7784\n",
            "Epoch 59/500\n",
            "59/59 [==============================] - 0s 3ms/step - loss: 0.5249 - accuracy: 0.7222 - auc: 0.7902 - val_loss: 0.5315 - val_accuracy: 0.7208 - val_auc: 0.7784\n",
            "Epoch 60/500\n",
            "59/59 [==============================] - 0s 3ms/step - loss: 0.5248 - accuracy: 0.7223 - auc: 0.7902 - val_loss: 0.5315 - val_accuracy: 0.7209 - val_auc: 0.7783\n",
            "Epoch 61/500\n",
            "59/59 [==============================] - 0s 4ms/step - loss: 0.5248 - accuracy: 0.7222 - auc: 0.7902 - val_loss: 0.5315 - val_accuracy: 0.7206 - val_auc: 0.7783\n",
            "Epoch 62/500\n",
            "59/59 [==============================] - 0s 3ms/step - loss: 0.5248 - accuracy: 0.7223 - auc: 0.7902 - val_loss: 0.5315 - val_accuracy: 0.7206 - val_auc: 0.7784\n",
            "Epoch 63/500\n",
            "59/59 [==============================] - 0s 4ms/step - loss: 0.5248 - accuracy: 0.7225 - auc: 0.7903 - val_loss: 0.5315 - val_accuracy: 0.7207 - val_auc: 0.7784\n",
            "Epoch 64/500\n",
            "59/59 [==============================] - 0s 3ms/step - loss: 0.5247 - accuracy: 0.7226 - auc: 0.7903 - val_loss: 0.5314 - val_accuracy: 0.7205 - val_auc: 0.7784\n",
            "Epoch 65/500\n",
            "59/59 [==============================] - 0s 3ms/step - loss: 0.5247 - accuracy: 0.7225 - auc: 0.7903 - val_loss: 0.5314 - val_accuracy: 0.7204 - val_auc: 0.7784\n",
            "Epoch 66/500\n",
            "59/59 [==============================] - 0s 3ms/step - loss: 0.5247 - accuracy: 0.7226 - auc: 0.7903 - val_loss: 0.5314 - val_accuracy: 0.7210 - val_auc: 0.7784\n",
            "Epoch 67/500\n",
            "59/59 [==============================] - 0s 3ms/step - loss: 0.5247 - accuracy: 0.7227 - auc: 0.7903 - val_loss: 0.5314 - val_accuracy: 0.7209 - val_auc: 0.7784\n",
            "Epoch 68/500\n",
            "59/59 [==============================] - 0s 3ms/step - loss: 0.5247 - accuracy: 0.7227 - auc: 0.7903 - val_loss: 0.5314 - val_accuracy: 0.7207 - val_auc: 0.7784\n",
            "Epoch 69/500\n",
            "59/59 [==============================] - 0s 3ms/step - loss: 0.5247 - accuracy: 0.7225 - auc: 0.7903 - val_loss: 0.5314 - val_accuracy: 0.7206 - val_auc: 0.7784\n",
            "Epoch 70/500\n",
            "59/59 [==============================] - 0s 3ms/step - loss: 0.5247 - accuracy: 0.7225 - auc: 0.7903 - val_loss: 0.5314 - val_accuracy: 0.7206 - val_auc: 0.7784\n",
            "Epoch 71/500\n",
            "59/59 [==============================] - 0s 4ms/step - loss: 0.5246 - accuracy: 0.7226 - auc: 0.7903 - val_loss: 0.5314 - val_accuracy: 0.7204 - val_auc: 0.7784\n",
            "Epoch 72/500\n",
            "59/59 [==============================] - 0s 3ms/step - loss: 0.5246 - accuracy: 0.7224 - auc: 0.7903 - val_loss: 0.5314 - val_accuracy: 0.7202 - val_auc: 0.7784\n",
            "Epoch 73/500\n",
            "59/59 [==============================] - 0s 3ms/step - loss: 0.5246 - accuracy: 0.7224 - auc: 0.7904 - val_loss: 0.5314 - val_accuracy: 0.7201 - val_auc: 0.7783\n",
            "Epoch 74/500\n",
            "59/59 [==============================] - 0s 4ms/step - loss: 0.5246 - accuracy: 0.7225 - auc: 0.7904 - val_loss: 0.5314 - val_accuracy: 0.7202 - val_auc: 0.7783\n",
            "Epoch 75/500\n",
            "59/59 [==============================] - 0s 4ms/step - loss: 0.5246 - accuracy: 0.7226 - auc: 0.7904 - val_loss: 0.5314 - val_accuracy: 0.7205 - val_auc: 0.7784\n",
            "Epoch 76/500\n",
            "59/59 [==============================] - 0s 3ms/step - loss: 0.5246 - accuracy: 0.7227 - auc: 0.7904 - val_loss: 0.5314 - val_accuracy: 0.7203 - val_auc: 0.7784\n",
            "Epoch 77/500\n",
            "59/59 [==============================] - 0s 4ms/step - loss: 0.5246 - accuracy: 0.7226 - auc: 0.7904 - val_loss: 0.5314 - val_accuracy: 0.7202 - val_auc: 0.7784\n",
            "Epoch 78/500\n",
            "59/59 [==============================] - 0s 4ms/step - loss: 0.5246 - accuracy: 0.7226 - auc: 0.7904 - val_loss: 0.5314 - val_accuracy: 0.7203 - val_auc: 0.7784\n",
            "Restoring model weights from the end of the best epoch.\n",
            "Epoch 00078: early stopping\n"
          ],
          "name": "stdout"
        },
        {
          "output_type": "execute_result",
          "data": {
            "text/plain": [
              "<tensorflow.python.keras.callbacks.History at 0x7f20ee1be090>"
            ]
          },
          "metadata": {
            "tags": []
          },
          "execution_count": 13
        }
      ]
    },
    {
      "cell_type": "code",
      "metadata": {
        "colab": {
          "base_uri": "https://localhost:8080/"
        },
        "id": "RvrewA3s_5da",
        "outputId": "e021eb11-7526-406c-9fdf-c08fa5c5bd0d"
      },
      "source": [
        "results = []\n",
        "results.append(('Initial DNN',roc_auc_score(y_test,model.predict(X_test))))\n",
        "print(results[-1])"
      ],
      "execution_count": null,
      "outputs": [
        {
          "output_type": "stream",
          "text": [
            "('Initial DNN', 0.7803878280326728)\n"
          ],
          "name": "stdout"
        }
      ]
    },
    {
      "cell_type": "markdown",
      "metadata": {
        "id": "6XcDGLRQgUxF"
      },
      "source": [
        "# Aletheia Unwrapping"
      ]
    },
    {
      "cell_type": "code",
      "metadata": {
        "id": "JtIIPuzjd7Yp"
      },
      "source": [
        "from aletheia import *\n",
        "\n",
        "coefs = [layer.kernel.numpy() for layer in model.layers]\n",
        "intercepts = [layer.bias.numpy() for layer in model.layers]\n",
        "clf = UnwrapperClassifier(coefs, intercepts,feature_names=fnames)\n",
        "clf.fit(X_train, y_train)"
      ],
      "execution_count": null,
      "outputs": []
    },
    {
      "cell_type": "code",
      "metadata": {
        "id": "2iXSkJDjd7Yp"
      },
      "source": [
        "# print(clf.summary().shape)  #dont run.crashes pc. Object too big. Need to optimize dnn"
      ],
      "execution_count": null,
      "outputs": []
    },
    {
      "cell_type": "code",
      "metadata": {
        "colab": {
          "base_uri": "https://localhost:8080/",
          "height": 303
        },
        "id": "mQNoycVrd7Yq",
        "outputId": "2d5488c5-64a9-4de4-cbca-b0f0a5200980"
      },
      "source": [
        "#feature importance plot \n",
        "fig = clf.feature_importance_plot(figsize=(100, 20),include_b0=1)"
      ],
      "execution_count": null,
      "outputs": [
        {
          "output_type": "display_data",
          "data": {
            "image/png": "[encoded data removed]",
            "text/plain": [
              "<Figure size 7200x1440 with 1 Axes>"
            ]
          },
          "metadata": {
            "tags": [],
            "needs_background": "light"
          }
        }
      ]
    },
    {
      "cell_type": "markdown",
      "metadata": {
        "id": "1ZfxgySkgixs"
      },
      "source": [
        "# Merging LLMs"
      ]
    },
    {
      "cell_type": "code",
      "metadata": {
        "colab": {
          "base_uri": "https://localhost:8080/"
        },
        "id": "Js693sJzd7Yq",
        "outputId": "66141ec2-4059-4cc1-def7-fb15f60f748c"
      },
      "source": [
        "#Using grid search to find optimal number of LLM clusters\n",
        "\n",
        "datanum = X_train.shape[0]\n",
        "indices = np.arange(datanum)\n",
        "idx1, idx2 = train_test_split(indices, test_size=0.2, random_state=0)\n",
        "val_fold = np.ones((len(indices)))\n",
        "val_fold[idx1] = -1\n",
        "\n",
        "X_train_np = X_train.values\n",
        "y_train_np = y_train.values\n",
        "\n",
        "grid = GridSearchCV(MergerClassifier(unwrapper=None, \n",
        "                                     weights=coefs,\n",
        "                                     biases=intercepts, \n",
        "                                     min_samples=50,\n",
        "                                     n_neighbors=np.round(clf.nllms * 0.01).astype(int),\n",
        "                                     refit_model=LogisticRegression()),\n",
        "                                     param_grid={\"n_clusters\": [1, 2, 3, 4, 5, 6, 7, 8, 9, 10, 15, 20]},\n",
        "                                     scoring={\"auc\": make_scorer(roc_auc_score, needs_proba=True)},\n",
        "                                     cv=PredefinedSplit(val_fold), refit=\"auc\", error_score=np.nan, verbose=3)\n",
        "# grid = MergerClassifier(unwrapper=None,\n",
        "#                       weights=coefs,\n",
        "#                       biases=intercepts,\n",
        "#                       min_samples=30,\n",
        "#                       n_neighbors=np.round(clf1.nllms * 0.01).astype(int),\n",
        "#                       refit_model=LogisticRegression(),\n",
        "#                       n_clusters=10\n",
        "#                      )\n",
        "grid.fit(X_train_np, y_train_np)\n"
      ],
      "execution_count": null,
      "outputs": [
        {
          "output_type": "stream",
          "text": [
            "Fitting 1 folds for each of 12 candidates, totalling 12 fits\n",
            "[CV 1/1] END .................n_clusters=1; auc: (test=0.748) total time= 3.1min\n",
            "[CV 1/1] END .................n_clusters=2; auc: (test=0.768) total time= 3.2min\n",
            "[CV 1/1] END .................n_clusters=3; auc: (test=0.774) total time= 3.2min\n",
            "[CV 1/1] END .................n_clusters=4; auc: (test=0.774) total time= 3.4min\n",
            "[CV 1/1] END .................n_clusters=5; auc: (test=0.776) total time= 3.5min\n",
            "[CV 1/1] END .................n_clusters=6; auc: (test=0.775) total time= 3.4min\n",
            "[CV 1/1] END .................n_clusters=7; auc: (test=0.774) total time= 3.5min\n",
            "[CV 1/1] END .................n_clusters=8; auc: (test=0.774) total time= 3.5min\n",
            "[CV 1/1] END .................n_clusters=9; auc: (test=0.774) total time= 3.3min\n",
            "[CV 1/1] END ................n_clusters=10; auc: (test=0.775) total time= 3.4min\n",
            "[CV 1/1] END ................n_clusters=15; auc: (test=0.771) total time= 3.5min\n",
            "[CV 1/1] END ................n_clusters=20; auc: (test=0.769) total time= 4.7min\n"
          ],
          "name": "stdout"
        },
        {
          "output_type": "execute_result",
          "data": {
            "text/plain": [
              "GridSearchCV(cv=PredefinedSplit(test_fold=array([-1, -1, ..., -1,  1])),\n",
              "             estimator=MergerClassifier(biases=[array([ 0.05564463, -0.07092811,  0.23131742,  0.0918405 , -0.10335322,\n",
              "        0.05048175, -0.00245235, -0.04160368, -0.07714047,  0.08638024,\n",
              "        0.10046817,  0.00740497,  0.07705621,  0.05546864,  0.00968216,\n",
              "       -0.03915994,  0.1975416 ,  0.08697756,  0.20055805,  0.24345444,\n",
              "        0.03496301, -0.036...\n",
              "       [-0.23368052],\n",
              "       [-0.16968824],\n",
              "       [-0.3584583 ],\n",
              "       [-0.45079887],\n",
              "       [ 0.21265517],\n",
              "       [ 0.20515855],\n",
              "       [ 0.8851064 ],\n",
              "       [-0.61266315],\n",
              "       [-0.10798008],\n",
              "       [ 0.38765153],\n",
              "       [ 0.7343377 ],\n",
              "       [ 0.65345675],\n",
              "       [-0.2068829 ],\n",
              "       [-0.49876758],\n",
              "       [ 0.41272715]], dtype=float32)]),\n",
              "             param_grid={'n_clusters': [1, 2, 3, 4, 5, 6, 7, 8, 9, 10, 15, 20]},\n",
              "             refit='auc',\n",
              "             scoring={'auc': make_scorer(roc_auc_score, needs_proba=True)},\n",
              "             verbose=3)"
            ]
          },
          "metadata": {
            "tags": []
          },
          "execution_count": 18
        }
      ]
    },
    {
      "cell_type": "code",
      "metadata": {
        "id": "DLgldgAYd7Yr"
      },
      "source": [
        "#save grid file\n",
        "with open('grid.pkl', 'wb') as output:\n",
        "    joblib.dump(grid, output)"
      ],
      "execution_count": null,
      "outputs": []
    },
    {
      "cell_type": "code",
      "metadata": {
        "id": "xRzQC3_4d7Yr",
        "colab": {
          "base_uri": "https://localhost:8080/",
          "height": 418
        },
        "outputId": "ad71c608-2498-4187-d025-d0846cc5b2c0"
      },
      "source": [
        "# results on different n_cluster values\n",
        "pd.DataFrame(grid.cv_results_)"
      ],
      "execution_count": null,
      "outputs": [
        {
          "output_type": "execute_result",
          "data": {
            "text/html": [
              "<div>\n",
              "<style scoped>\n",
              "    .dataframe tbody tr th:only-of-type {\n",
              "        vertical-align: middle;\n",
              "    }\n",
              "\n",
              "    .dataframe tbody tr th {\n",
              "        vertical-align: top;\n",
              "    }\n",
              "\n",
              "    .dataframe thead th {\n",
              "        text-align: right;\n",
              "    }\n",
              "</style>\n",
              "<table border=\"1\" class=\"dataframe\">\n",
              "  <thead>\n",
              "    <tr style=\"text-align: right;\">\n",
              "      <th></th>\n",
              "      <th>mean_fit_time</th>\n",
              "      <th>std_fit_time</th>\n",
              "      <th>mean_score_time</th>\n",
              "      <th>std_score_time</th>\n",
              "      <th>param_n_clusters</th>\n",
              "      <th>params</th>\n",
              "      <th>split0_test_auc</th>\n",
              "      <th>mean_test_auc</th>\n",
              "      <th>std_test_auc</th>\n",
              "      <th>rank_test_auc</th>\n",
              "    </tr>\n",
              "  </thead>\n",
              "  <tbody>\n",
              "    <tr>\n",
              "      <th>0</th>\n",
              "      <td>171.856152</td>\n",
              "      <td>0.0</td>\n",
              "      <td>16.070130</td>\n",
              "      <td>0.0</td>\n",
              "      <td>1</td>\n",
              "      <td>{'n_clusters': 1}</td>\n",
              "      <td>0.748234</td>\n",
              "      <td>0.748234</td>\n",
              "      <td>0.0</td>\n",
              "      <td>12</td>\n",
              "    </tr>\n",
              "    <tr>\n",
              "      <th>1</th>\n",
              "      <td>178.210827</td>\n",
              "      <td>0.0</td>\n",
              "      <td>15.090551</td>\n",
              "      <td>0.0</td>\n",
              "      <td>2</td>\n",
              "      <td>{'n_clusters': 2}</td>\n",
              "      <td>0.767673</td>\n",
              "      <td>0.767673</td>\n",
              "      <td>0.0</td>\n",
              "      <td>11</td>\n",
              "    </tr>\n",
              "    <tr>\n",
              "      <th>2</th>\n",
              "      <td>178.661271</td>\n",
              "      <td>0.0</td>\n",
              "      <td>14.956981</td>\n",
              "      <td>0.0</td>\n",
              "      <td>3</td>\n",
              "      <td>{'n_clusters': 3}</td>\n",
              "      <td>0.773530</td>\n",
              "      <td>0.773530</td>\n",
              "      <td>0.0</td>\n",
              "      <td>8</td>\n",
              "    </tr>\n",
              "    <tr>\n",
              "      <th>3</th>\n",
              "      <td>186.636152</td>\n",
              "      <td>0.0</td>\n",
              "      <td>15.928843</td>\n",
              "      <td>0.0</td>\n",
              "      <td>4</td>\n",
              "      <td>{'n_clusters': 4}</td>\n",
              "      <td>0.773668</td>\n",
              "      <td>0.773668</td>\n",
              "      <td>0.0</td>\n",
              "      <td>7</td>\n",
              "    </tr>\n",
              "    <tr>\n",
              "      <th>4</th>\n",
              "      <td>194.573988</td>\n",
              "      <td>0.0</td>\n",
              "      <td>15.280597</td>\n",
              "      <td>0.0</td>\n",
              "      <td>5</td>\n",
              "      <td>{'n_clusters': 5}</td>\n",
              "      <td>0.775545</td>\n",
              "      <td>0.775545</td>\n",
              "      <td>0.0</td>\n",
              "      <td>1</td>\n",
              "    </tr>\n",
              "    <tr>\n",
              "      <th>5</th>\n",
              "      <td>189.914986</td>\n",
              "      <td>0.0</td>\n",
              "      <td>15.912681</td>\n",
              "      <td>0.0</td>\n",
              "      <td>6</td>\n",
              "      <td>{'n_clusters': 6}</td>\n",
              "      <td>0.775454</td>\n",
              "      <td>0.775454</td>\n",
              "      <td>0.0</td>\n",
              "      <td>2</td>\n",
              "    </tr>\n",
              "    <tr>\n",
              "      <th>6</th>\n",
              "      <td>196.290391</td>\n",
              "      <td>0.0</td>\n",
              "      <td>15.326067</td>\n",
              "      <td>0.0</td>\n",
              "      <td>7</td>\n",
              "      <td>{'n_clusters': 7}</td>\n",
              "      <td>0.774476</td>\n",
              "      <td>0.774476</td>\n",
              "      <td>0.0</td>\n",
              "      <td>4</td>\n",
              "    </tr>\n",
              "    <tr>\n",
              "      <th>7</th>\n",
              "      <td>193.254446</td>\n",
              "      <td>0.0</td>\n",
              "      <td>15.056786</td>\n",
              "      <td>0.0</td>\n",
              "      <td>8</td>\n",
              "      <td>{'n_clusters': 8}</td>\n",
              "      <td>0.774347</td>\n",
              "      <td>0.774347</td>\n",
              "      <td>0.0</td>\n",
              "      <td>5</td>\n",
              "    </tr>\n",
              "    <tr>\n",
              "      <th>8</th>\n",
              "      <td>185.735209</td>\n",
              "      <td>0.0</td>\n",
              "      <td>14.868467</td>\n",
              "      <td>0.0</td>\n",
              "      <td>9</td>\n",
              "      <td>{'n_clusters': 9}</td>\n",
              "      <td>0.774346</td>\n",
              "      <td>0.774346</td>\n",
              "      <td>0.0</td>\n",
              "      <td>6</td>\n",
              "    </tr>\n",
              "    <tr>\n",
              "      <th>9</th>\n",
              "      <td>190.024789</td>\n",
              "      <td>0.0</td>\n",
              "      <td>15.522214</td>\n",
              "      <td>0.0</td>\n",
              "      <td>10</td>\n",
              "      <td>{'n_clusters': 10}</td>\n",
              "      <td>0.774755</td>\n",
              "      <td>0.774755</td>\n",
              "      <td>0.0</td>\n",
              "      <td>3</td>\n",
              "    </tr>\n",
              "    <tr>\n",
              "      <th>10</th>\n",
              "      <td>191.310814</td>\n",
              "      <td>0.0</td>\n",
              "      <td>16.754946</td>\n",
              "      <td>0.0</td>\n",
              "      <td>15</td>\n",
              "      <td>{'n_clusters': 15}</td>\n",
              "      <td>0.771361</td>\n",
              "      <td>0.771361</td>\n",
              "      <td>0.0</td>\n",
              "      <td>9</td>\n",
              "    </tr>\n",
              "    <tr>\n",
              "      <th>11</th>\n",
              "      <td>263.881402</td>\n",
              "      <td>0.0</td>\n",
              "      <td>17.270261</td>\n",
              "      <td>0.0</td>\n",
              "      <td>20</td>\n",
              "      <td>{'n_clusters': 20}</td>\n",
              "      <td>0.769427</td>\n",
              "      <td>0.769427</td>\n",
              "      <td>0.0</td>\n",
              "      <td>10</td>\n",
              "    </tr>\n",
              "  </tbody>\n",
              "</table>\n",
              "</div>"
            ],
            "text/plain": [
              "    mean_fit_time  std_fit_time  ...  std_test_auc  rank_test_auc\n",
              "0      171.856152           0.0  ...           0.0             12\n",
              "1      178.210827           0.0  ...           0.0             11\n",
              "2      178.661271           0.0  ...           0.0              8\n",
              "3      186.636152           0.0  ...           0.0              7\n",
              "4      194.573988           0.0  ...           0.0              1\n",
              "5      189.914986           0.0  ...           0.0              2\n",
              "6      196.290391           0.0  ...           0.0              4\n",
              "7      193.254446           0.0  ...           0.0              5\n",
              "8      185.735209           0.0  ...           0.0              6\n",
              "9      190.024789           0.0  ...           0.0              3\n",
              "10     191.310814           0.0  ...           0.0              9\n",
              "11     263.881402           0.0  ...           0.0             10\n",
              "\n",
              "[12 rows x 10 columns]"
            ]
          },
          "metadata": {
            "tags": []
          },
          "execution_count": 20
        }
      ]
    },
    {
      "cell_type": "code",
      "metadata": {
        "id": "7E1e0ehvd7Yr"
      },
      "source": [
        "#choose best n_cluster value\n",
        "clf_merge = grid.best_estimator_"
      ],
      "execution_count": null,
      "outputs": []
    },
    {
      "cell_type": "code",
      "metadata": {
        "id": "zC-qYZ5gd7Yr",
        "colab": {
          "base_uri": "https://localhost:8080/",
          "height": 203
        },
        "outputId": "9f6524d9-c75a-4928-9bdb-3c723a4d369b"
      },
      "source": [
        "#Merged DNN unwrapped\n",
        "clf_merge.summary()"
      ],
      "execution_count": null,
      "outputs": [
        {
          "output_type": "execute_result",
          "data": {
            "text/html": [
              "<div>\n",
              "<style scoped>\n",
              "    .dataframe tbody tr th:only-of-type {\n",
              "        vertical-align: middle;\n",
              "    }\n",
              "\n",
              "    .dataframe tbody tr th {\n",
              "        vertical-align: top;\n",
              "    }\n",
              "\n",
              "    .dataframe thead th {\n",
              "        text-align: right;\n",
              "    }\n",
              "</style>\n",
              "<table border=\"1\" class=\"dataframe\">\n",
              "  <thead>\n",
              "    <tr style=\"text-align: right;\">\n",
              "      <th></th>\n",
              "      <th>Count</th>\n",
              "      <th>Response Mean</th>\n",
              "      <th>Response Std</th>\n",
              "      <th>Local AUC</th>\n",
              "      <th>Global AUC</th>\n",
              "    </tr>\n",
              "  </thead>\n",
              "  <tbody>\n",
              "    <tr>\n",
              "      <th>0</th>\n",
              "      <td>14693.0</td>\n",
              "      <td>0.324917</td>\n",
              "      <td>0.468344</td>\n",
              "      <td>0.614702</td>\n",
              "      <td>0.563184</td>\n",
              "    </tr>\n",
              "    <tr>\n",
              "      <th>1</th>\n",
              "      <td>5647.0</td>\n",
              "      <td>0.892686</td>\n",
              "      <td>0.309512</td>\n",
              "      <td>0.849899</td>\n",
              "      <td>0.701832</td>\n",
              "    </tr>\n",
              "    <tr>\n",
              "      <th>2</th>\n",
              "      <td>5628.0</td>\n",
              "      <td>0.417022</td>\n",
              "      <td>0.493067</td>\n",
              "      <td>0.613877</td>\n",
              "      <td>0.731151</td>\n",
              "    </tr>\n",
              "    <tr>\n",
              "      <th>3</th>\n",
              "      <td>2155.0</td>\n",
              "      <td>0.822274</td>\n",
              "      <td>0.382282</td>\n",
              "      <td>0.796636</td>\n",
              "      <td>0.698664</td>\n",
              "    </tr>\n",
              "    <tr>\n",
              "      <th>4</th>\n",
              "      <td>1667.0</td>\n",
              "      <td>0.571086</td>\n",
              "      <td>0.494921</td>\n",
              "      <td>0.665095</td>\n",
              "      <td>0.730853</td>\n",
              "    </tr>\n",
              "  </tbody>\n",
              "</table>\n",
              "</div>"
            ],
            "text/plain": [
              "     Count  Response Mean  Response Std  Local AUC  Global AUC\n",
              "0  14693.0       0.324917      0.468344   0.614702    0.563184\n",
              "1   5647.0       0.892686      0.309512   0.849899    0.701832\n",
              "2   5628.0       0.417022      0.493067   0.613877    0.731151\n",
              "3   2155.0       0.822274      0.382282   0.796636    0.698664\n",
              "4   1667.0       0.571086      0.494921   0.665095    0.730853"
            ]
          },
          "metadata": {
            "tags": []
          },
          "execution_count": 22
        }
      ]
    },
    {
      "cell_type": "markdown",
      "metadata": {
        "id": "db0GzXj4Pr1m"
      },
      "source": [
        "## Getting Flattened Model with one hidden layer"
      ]
    },
    {
      "cell_type": "code",
      "metadata": {
        "id": "legLuP-OCDQv",
        "colab": {
          "base_uri": "https://localhost:8080/"
        },
        "outputId": "18cb0121-638d-4ecf-e008-22e84d9ab08e"
      },
      "source": [
        "flatten_model = clf_merge.flatten(refit_model=LogisticRegression(C=1e10))\n",
        "clf_flatten = flatten_model\n",
        "clf_flatten.fit(x_res.values, y_res.values.flatten())"
      ],
      "execution_count": null,
      "outputs": [
        {
          "output_type": "stream",
          "text": [
            "/usr/local/lib/python3.7/dist-packages/sklearn/neural_network/_multilayer_perceptron.py:617: ConvergenceWarning: Stochastic Optimizer: Maximum iterations (1) reached and the optimization hasn't converged yet.\n",
            "  % self.max_iter, ConvergenceWarning)\n"
          ],
          "name": "stderr"
        }
      ]
    },
    {
      "cell_type": "code",
      "metadata": {
        "id": "azkH1u9bPBng",
        "colab": {
          "base_uri": "https://localhost:8080/"
        },
        "outputId": "bd0d85ae-4d2c-4765-cf01-af8130e59237"
      },
      "source": [
        "results.append(('Flattened DNN', roc_auc_score(y_test,clf_flatten.predict_proba(X_test)[:,1])))\n",
        "results[-1]"
      ],
      "execution_count": null,
      "outputs": [
        {
          "output_type": "execute_result",
          "data": {
            "text/plain": [
              "('Flattened DNN', 0.7860829768619458)"
            ]
          },
          "metadata": {
            "tags": []
          },
          "execution_count": 24
        }
      ]
    },
    {
      "cell_type": "markdown",
      "metadata": {
        "id": "iu7kV_PjPV0w"
      },
      "source": [
        "## Training new DNN same architecture as Flattened DNN (for comparison)"
      ]
    },
    {
      "cell_type": "code",
      "metadata": {
        "id": "2ypjuTeed7Ys",
        "colab": {
          "base_uri": "https://localhost:8080/"
        },
        "outputId": "dc280968-13cf-41ac-993c-83526ab68537"
      },
      "source": [
        "import tensorflow as tf\n",
        "from tensorflow import keras\n",
        "from tensorflow.keras.wrappers.scikit_learn import KerasClassifier\n",
        "\n",
        "metrics = [ \n",
        "      keras.metrics.BinaryAccuracy(name='accuracy'),\n",
        "      keras.metrics.AUC(name='auc'),\n",
        "      keras.metrics.AUC(name='prc', curve='PR'), # precision-recall curve\n",
        "]\n",
        "\n",
        "ES=tf.keras.callbacks.EarlyStopping(monitor=\"val_auc\",patience=20,restore_best_weights=True, mode='max', verbose=1)\n",
        "\n",
        "Rlr =tf.keras.callbacks.ReduceLROnPlateau(monitor='val_auc', factor=0.5,\n",
        "                              patience=10, min_lr=0.000001)\n",
        "\n",
        "def create_model(input_shape = (X_train.shape[1],)):\n",
        "    model = keras.Sequential()\n",
        "    model.add(keras.layers.Dense(5,activation='relu',input_shape=input_shape))\n",
        "    model.add(keras.layers.Dense(1,activation='sigmoid'))\n",
        "    model.compile(optimizer='adam',loss = 'binary_crossentropy', metrics = metrics)\n",
        "    return model\n",
        "              \n",
        "# model = KerasClassifier(create_model, verbose=1)\n",
        "model = create_model()\n",
        "\n",
        "\n",
        "model.fit(x=X_train,\n",
        "          y=y_train,\n",
        "          epochs = 500,\n",
        "          batch_size=512,\n",
        "          validation_data =(X_val, y_val),\n",
        "         callbacks=[ES, Rlr],\n",
        "#           class_weight = {0: zero_weight, 1: one_weight}\n",
        "         )\n"
      ],
      "execution_count": null,
      "outputs": [
        {
          "output_type": "stream",
          "text": [
            "Epoch 1/500\n",
            "59/59 [==============================] - 2s 13ms/step - loss: 0.7830 - accuracy: 0.5258 - auc: 0.5409 - prc: 0.5397 - val_loss: 0.7333 - val_accuracy: 0.5493 - val_auc: 0.5709 - val_prc: 0.5636\n",
            "Epoch 2/500\n",
            "59/59 [==============================] - 0s 4ms/step - loss: 0.7058 - accuracy: 0.5752 - auc: 0.6051 - prc: 0.6015 - val_loss: 0.6777 - val_accuracy: 0.6105 - val_auc: 0.6447 - val_prc: 0.6398\n",
            "Epoch 3/500\n",
            "59/59 [==============================] - 0s 4ms/step - loss: 0.6656 - accuracy: 0.6205 - auc: 0.6609 - prc: 0.6648 - val_loss: 0.6461 - val_accuracy: 0.6465 - val_auc: 0.6924 - val_prc: 0.7005\n",
            "Epoch 4/500\n",
            "59/59 [==============================] - 0s 5ms/step - loss: 0.6414 - accuracy: 0.6483 - auc: 0.6940 - prc: 0.7080 - val_loss: 0.6258 - val_accuracy: 0.6688 - val_auc: 0.7195 - val_prc: 0.7383\n",
            "Epoch 5/500\n",
            "59/59 [==============================] - 0s 4ms/step - loss: 0.6257 - accuracy: 0.6627 - auc: 0.7127 - prc: 0.7347 - val_loss: 0.6122 - val_accuracy: 0.6772 - val_auc: 0.7333 - val_prc: 0.7594\n",
            "Epoch 6/500\n",
            "59/59 [==============================] - 0s 4ms/step - loss: 0.6148 - accuracy: 0.6709 - auc: 0.7240 - prc: 0.7519 - val_loss: 0.6028 - val_accuracy: 0.6828 - val_auc: 0.7408 - val_prc: 0.7711\n",
            "Epoch 7/500\n",
            "59/59 [==============================] - 0s 4ms/step - loss: 0.6068 - accuracy: 0.6763 - auc: 0.7309 - prc: 0.7622 - val_loss: 0.5955 - val_accuracy: 0.6880 - val_auc: 0.7467 - val_prc: 0.7806\n",
            "Epoch 8/500\n",
            "59/59 [==============================] - 0s 4ms/step - loss: 0.6005 - accuracy: 0.6822 - auc: 0.7366 - prc: 0.7711 - val_loss: 0.5896 - val_accuracy: 0.6909 - val_auc: 0.7505 - val_prc: 0.7867\n",
            "Epoch 9/500\n",
            "59/59 [==============================] - 0s 4ms/step - loss: 0.5950 - accuracy: 0.6849 - auc: 0.7402 - prc: 0.7765 - val_loss: 0.5842 - val_accuracy: 0.6933 - val_auc: 0.7537 - val_prc: 0.7915\n",
            "Epoch 10/500\n",
            "59/59 [==============================] - 0s 4ms/step - loss: 0.5900 - accuracy: 0.6885 - auc: 0.7436 - prc: 0.7818 - val_loss: 0.5791 - val_accuracy: 0.6966 - val_auc: 0.7563 - val_prc: 0.7957\n",
            "Epoch 11/500\n",
            "59/59 [==============================] - 0s 4ms/step - loss: 0.5855 - accuracy: 0.6903 - auc: 0.7459 - prc: 0.7856 - val_loss: 0.5748 - val_accuracy: 0.6989 - val_auc: 0.7583 - val_prc: 0.7992\n",
            "Epoch 12/500\n",
            "59/59 [==============================] - 0s 5ms/step - loss: 0.5822 - accuracy: 0.6938 - auc: 0.7478 - prc: 0.7881 - val_loss: 0.5728 - val_accuracy: 0.7004 - val_auc: 0.7592 - val_prc: 0.8005\n",
            "Epoch 13/500\n",
            "59/59 [==============================] - 0s 4ms/step - loss: 0.5803 - accuracy: 0.6943 - auc: 0.7489 - prc: 0.7896 - val_loss: 0.5709 - val_accuracy: 0.7003 - val_auc: 0.7598 - val_prc: 0.8017\n",
            "Epoch 14/500\n",
            "59/59 [==============================] - 0s 4ms/step - loss: 0.5785 - accuracy: 0.6955 - auc: 0.7498 - prc: 0.7909 - val_loss: 0.5691 - val_accuracy: 0.7011 - val_auc: 0.7606 - val_prc: 0.8028\n",
            "Epoch 15/500\n",
            "59/59 [==============================] - 0s 4ms/step - loss: 0.5767 - accuracy: 0.6962 - auc: 0.7510 - prc: 0.7922 - val_loss: 0.5674 - val_accuracy: 0.7028 - val_auc: 0.7614 - val_prc: 0.8039\n",
            "Epoch 16/500\n",
            "59/59 [==============================] - 0s 4ms/step - loss: 0.5750 - accuracy: 0.6961 - auc: 0.7518 - prc: 0.7934 - val_loss: 0.5658 - val_accuracy: 0.7030 - val_auc: 0.7620 - val_prc: 0.8048\n",
            "Epoch 17/500\n",
            "59/59 [==============================] - 0s 5ms/step - loss: 0.5735 - accuracy: 0.6962 - auc: 0.7526 - prc: 0.7943 - val_loss: 0.5644 - val_accuracy: 0.7050 - val_auc: 0.7627 - val_prc: 0.8056\n",
            "Epoch 18/500\n",
            "59/59 [==============================] - 0s 4ms/step - loss: 0.5720 - accuracy: 0.6967 - auc: 0.7535 - prc: 0.7954 - val_loss: 0.5630 - val_accuracy: 0.7057 - val_auc: 0.7634 - val_prc: 0.8064\n",
            "Epoch 19/500\n",
            "59/59 [==============================] - 0s 4ms/step - loss: 0.5706 - accuracy: 0.6978 - auc: 0.7543 - prc: 0.7963 - val_loss: 0.5617 - val_accuracy: 0.7060 - val_auc: 0.7640 - val_prc: 0.8072\n",
            "Epoch 20/500\n",
            "59/59 [==============================] - 0s 4ms/step - loss: 0.5693 - accuracy: 0.6983 - auc: 0.7550 - prc: 0.7972 - val_loss: 0.5604 - val_accuracy: 0.7079 - val_auc: 0.7646 - val_prc: 0.8078\n",
            "Epoch 21/500\n",
            "59/59 [==============================] - 0s 4ms/step - loss: 0.5682 - accuracy: 0.6997 - auc: 0.7557 - prc: 0.7979 - val_loss: 0.5593 - val_accuracy: 0.7074 - val_auc: 0.7651 - val_prc: 0.8083\n",
            "Epoch 22/500\n",
            "59/59 [==============================] - 0s 4ms/step - loss: 0.5672 - accuracy: 0.7009 - auc: 0.7563 - prc: 0.7985 - val_loss: 0.5589 - val_accuracy: 0.7075 - val_auc: 0.7653 - val_prc: 0.8086\n",
            "Epoch 23/500\n",
            "59/59 [==============================] - 0s 4ms/step - loss: 0.5667 - accuracy: 0.7013 - auc: 0.7566 - prc: 0.7988 - val_loss: 0.5584 - val_accuracy: 0.7080 - val_auc: 0.7655 - val_prc: 0.8089\n",
            "Epoch 24/500\n",
            "59/59 [==============================] - 0s 4ms/step - loss: 0.5662 - accuracy: 0.7019 - auc: 0.7569 - prc: 0.7992 - val_loss: 0.5579 - val_accuracy: 0.7078 - val_auc: 0.7658 - val_prc: 0.8090\n",
            "Epoch 25/500\n",
            "59/59 [==============================] - 0s 4ms/step - loss: 0.5657 - accuracy: 0.7019 - auc: 0.7572 - prc: 0.7993 - val_loss: 0.5574 - val_accuracy: 0.7081 - val_auc: 0.7659 - val_prc: 0.8093\n",
            "Epoch 26/500\n",
            "59/59 [==============================] - 0s 4ms/step - loss: 0.5652 - accuracy: 0.7023 - auc: 0.7576 - prc: 0.7997 - val_loss: 0.5570 - val_accuracy: 0.7088 - val_auc: 0.7662 - val_prc: 0.8095\n",
            "Epoch 27/500\n",
            "59/59 [==============================] - 0s 4ms/step - loss: 0.5648 - accuracy: 0.7025 - auc: 0.7578 - prc: 0.8000 - val_loss: 0.5566 - val_accuracy: 0.7091 - val_auc: 0.7665 - val_prc: 0.8098\n",
            "Epoch 28/500\n",
            "59/59 [==============================] - 0s 4ms/step - loss: 0.5643 - accuracy: 0.7027 - auc: 0.7581 - prc: 0.8002 - val_loss: 0.5561 - val_accuracy: 0.7100 - val_auc: 0.7667 - val_prc: 0.8100\n",
            "Epoch 29/500\n",
            "59/59 [==============================] - 0s 4ms/step - loss: 0.5639 - accuracy: 0.7023 - auc: 0.7583 - prc: 0.8004 - val_loss: 0.5556 - val_accuracy: 0.7101 - val_auc: 0.7670 - val_prc: 0.8103\n",
            "Epoch 30/500\n",
            "59/59 [==============================] - 0s 4ms/step - loss: 0.5635 - accuracy: 0.7027 - auc: 0.7586 - prc: 0.8007 - val_loss: 0.5552 - val_accuracy: 0.7111 - val_auc: 0.7671 - val_prc: 0.8104\n",
            "Epoch 31/500\n",
            "59/59 [==============================] - 0s 5ms/step - loss: 0.5631 - accuracy: 0.7027 - auc: 0.7589 - prc: 0.8009 - val_loss: 0.5548 - val_accuracy: 0.7108 - val_auc: 0.7673 - val_prc: 0.8106\n",
            "Epoch 32/500\n",
            "59/59 [==============================] - 0s 4ms/step - loss: 0.5628 - accuracy: 0.7029 - auc: 0.7591 - prc: 0.8011 - val_loss: 0.5546 - val_accuracy: 0.7113 - val_auc: 0.7673 - val_prc: 0.8107\n",
            "Epoch 33/500\n",
            "59/59 [==============================] - 0s 4ms/step - loss: 0.5626 - accuracy: 0.7032 - auc: 0.7592 - prc: 0.8013 - val_loss: 0.5544 - val_accuracy: 0.7114 - val_auc: 0.7674 - val_prc: 0.8107\n",
            "Epoch 34/500\n",
            "59/59 [==============================] - 0s 4ms/step - loss: 0.5624 - accuracy: 0.7034 - auc: 0.7593 - prc: 0.8013 - val_loss: 0.5542 - val_accuracy: 0.7109 - val_auc: 0.7676 - val_prc: 0.8109\n",
            "Epoch 35/500\n",
            "59/59 [==============================] - 0s 4ms/step - loss: 0.5622 - accuracy: 0.7033 - auc: 0.7594 - prc: 0.8014 - val_loss: 0.5540 - val_accuracy: 0.7110 - val_auc: 0.7677 - val_prc: 0.8110\n",
            "Epoch 36/500\n",
            "59/59 [==============================] - 0s 4ms/step - loss: 0.5620 - accuracy: 0.7035 - auc: 0.7595 - prc: 0.8015 - val_loss: 0.5538 - val_accuracy: 0.7111 - val_auc: 0.7679 - val_prc: 0.8112\n",
            "Epoch 37/500\n",
            "59/59 [==============================] - 0s 4ms/step - loss: 0.5619 - accuracy: 0.7037 - auc: 0.7596 - prc: 0.8016 - val_loss: 0.5536 - val_accuracy: 0.7112 - val_auc: 0.7680 - val_prc: 0.8112\n",
            "Epoch 38/500\n",
            "59/59 [==============================] - 0s 4ms/step - loss: 0.5617 - accuracy: 0.7038 - auc: 0.7597 - prc: 0.8016 - val_loss: 0.5535 - val_accuracy: 0.7110 - val_auc: 0.7680 - val_prc: 0.8112\n",
            "Epoch 39/500\n",
            "59/59 [==============================] - 0s 5ms/step - loss: 0.5615 - accuracy: 0.7038 - auc: 0.7599 - prc: 0.8017 - val_loss: 0.5533 - val_accuracy: 0.7109 - val_auc: 0.7682 - val_prc: 0.8113\n",
            "Epoch 40/500\n",
            "59/59 [==============================] - 0s 5ms/step - loss: 0.5613 - accuracy: 0.7038 - auc: 0.7600 - prc: 0.8018 - val_loss: 0.5531 - val_accuracy: 0.7106 - val_auc: 0.7683 - val_prc: 0.8114\n",
            "Epoch 41/500\n",
            "59/59 [==============================] - 0s 4ms/step - loss: 0.5612 - accuracy: 0.7040 - auc: 0.7601 - prc: 0.8019 - val_loss: 0.5529 - val_accuracy: 0.7109 - val_auc: 0.7684 - val_prc: 0.8116\n",
            "Epoch 42/500\n",
            "59/59 [==============================] - 0s 4ms/step - loss: 0.5610 - accuracy: 0.7042 - auc: 0.7603 - prc: 0.8021 - val_loss: 0.5528 - val_accuracy: 0.7108 - val_auc: 0.7684 - val_prc: 0.8116\n",
            "Epoch 43/500\n",
            "59/59 [==============================] - 0s 4ms/step - loss: 0.5609 - accuracy: 0.7043 - auc: 0.7603 - prc: 0.8021 - val_loss: 0.5527 - val_accuracy: 0.7110 - val_auc: 0.7685 - val_prc: 0.8116\n",
            "Epoch 44/500\n",
            "59/59 [==============================] - 0s 4ms/step - loss: 0.5609 - accuracy: 0.7041 - auc: 0.7604 - prc: 0.8021 - val_loss: 0.5526 - val_accuracy: 0.7113 - val_auc: 0.7686 - val_prc: 0.8116\n",
            "Epoch 45/500\n",
            "59/59 [==============================] - 0s 5ms/step - loss: 0.5608 - accuracy: 0.7041 - auc: 0.7604 - prc: 0.8022 - val_loss: 0.5525 - val_accuracy: 0.7114 - val_auc: 0.7685 - val_prc: 0.8117\n",
            "Epoch 46/500\n",
            "59/59 [==============================] - 0s 4ms/step - loss: 0.5607 - accuracy: 0.7041 - auc: 0.7605 - prc: 0.8022 - val_loss: 0.5525 - val_accuracy: 0.7116 - val_auc: 0.7686 - val_prc: 0.8117\n",
            "Epoch 47/500\n",
            "59/59 [==============================] - 0s 4ms/step - loss: 0.5606 - accuracy: 0.7040 - auc: 0.7605 - prc: 0.8023 - val_loss: 0.5524 - val_accuracy: 0.7114 - val_auc: 0.7686 - val_prc: 0.8116\n",
            "Epoch 48/500\n",
            "59/59 [==============================] - 0s 4ms/step - loss: 0.5605 - accuracy: 0.7037 - auc: 0.7606 - prc: 0.8023 - val_loss: 0.5523 - val_accuracy: 0.7119 - val_auc: 0.7686 - val_prc: 0.8117\n",
            "Epoch 49/500\n",
            "59/59 [==============================] - 0s 4ms/step - loss: 0.5605 - accuracy: 0.7038 - auc: 0.7606 - prc: 0.8024 - val_loss: 0.5522 - val_accuracy: 0.7120 - val_auc: 0.7687 - val_prc: 0.8118\n",
            "Epoch 50/500\n",
            "59/59 [==============================] - 0s 4ms/step - loss: 0.5604 - accuracy: 0.7039 - auc: 0.7607 - prc: 0.8025 - val_loss: 0.5521 - val_accuracy: 0.7119 - val_auc: 0.7688 - val_prc: 0.8118\n",
            "Epoch 51/500\n",
            "59/59 [==============================] - 0s 4ms/step - loss: 0.5603 - accuracy: 0.7039 - auc: 0.7607 - prc: 0.8025 - val_loss: 0.5520 - val_accuracy: 0.7120 - val_auc: 0.7688 - val_prc: 0.8119\n",
            "Epoch 52/500\n",
            "59/59 [==============================] - 0s 4ms/step - loss: 0.5602 - accuracy: 0.7037 - auc: 0.7607 - prc: 0.8025 - val_loss: 0.5520 - val_accuracy: 0.7118 - val_auc: 0.7689 - val_prc: 0.8119\n",
            "Epoch 53/500\n",
            "59/59 [==============================] - 0s 4ms/step - loss: 0.5602 - accuracy: 0.7037 - auc: 0.7608 - prc: 0.8025 - val_loss: 0.5519 - val_accuracy: 0.7118 - val_auc: 0.7689 - val_prc: 0.8119\n",
            "Epoch 54/500\n",
            "59/59 [==============================] - 0s 3ms/step - loss: 0.5602 - accuracy: 0.7039 - auc: 0.7608 - prc: 0.8026 - val_loss: 0.5519 - val_accuracy: 0.7117 - val_auc: 0.7690 - val_prc: 0.8119\n",
            "Epoch 55/500\n",
            "59/59 [==============================] - 0s 3ms/step - loss: 0.5601 - accuracy: 0.7038 - auc: 0.7608 - prc: 0.8026 - val_loss: 0.5518 - val_accuracy: 0.7118 - val_auc: 0.7690 - val_prc: 0.8119\n",
            "Epoch 56/500\n",
            "59/59 [==============================] - 0s 3ms/step - loss: 0.5601 - accuracy: 0.7040 - auc: 0.7609 - prc: 0.8026 - val_loss: 0.5518 - val_accuracy: 0.7121 - val_auc: 0.7691 - val_prc: 0.8120\n",
            "Epoch 57/500\n",
            "59/59 [==============================] - 0s 3ms/step - loss: 0.5601 - accuracy: 0.7039 - auc: 0.7609 - prc: 0.8026 - val_loss: 0.5518 - val_accuracy: 0.7120 - val_auc: 0.7691 - val_prc: 0.8120\n",
            "Epoch 58/500\n",
            "59/59 [==============================] - 0s 3ms/step - loss: 0.5600 - accuracy: 0.7039 - auc: 0.7609 - prc: 0.8027 - val_loss: 0.5517 - val_accuracy: 0.7120 - val_auc: 0.7691 - val_prc: 0.8120\n",
            "Epoch 59/500\n",
            "59/59 [==============================] - 0s 3ms/step - loss: 0.5600 - accuracy: 0.7039 - auc: 0.7609 - prc: 0.8027 - val_loss: 0.5517 - val_accuracy: 0.7119 - val_auc: 0.7691 - val_prc: 0.8120\n",
            "Epoch 60/500\n",
            "59/59 [==============================] - 0s 3ms/step - loss: 0.5600 - accuracy: 0.7039 - auc: 0.7610 - prc: 0.8027 - val_loss: 0.5516 - val_accuracy: 0.7118 - val_auc: 0.7692 - val_prc: 0.8121\n",
            "Epoch 61/500\n",
            "59/59 [==============================] - 0s 4ms/step - loss: 0.5599 - accuracy: 0.7041 - auc: 0.7610 - prc: 0.8027 - val_loss: 0.5516 - val_accuracy: 0.7118 - val_auc: 0.7692 - val_prc: 0.8121\n",
            "Epoch 62/500\n",
            "59/59 [==============================] - 0s 4ms/step - loss: 0.5599 - accuracy: 0.7039 - auc: 0.7610 - prc: 0.8028 - val_loss: 0.5516 - val_accuracy: 0.7118 - val_auc: 0.7692 - val_prc: 0.8121\n",
            "Epoch 63/500\n",
            "59/59 [==============================] - 0s 3ms/step - loss: 0.5599 - accuracy: 0.7041 - auc: 0.7610 - prc: 0.8028 - val_loss: 0.5515 - val_accuracy: 0.7119 - val_auc: 0.7692 - val_prc: 0.8121\n",
            "Epoch 64/500\n",
            "59/59 [==============================] - 0s 3ms/step - loss: 0.5598 - accuracy: 0.7039 - auc: 0.7610 - prc: 0.8028 - val_loss: 0.5515 - val_accuracy: 0.7119 - val_auc: 0.7692 - val_prc: 0.8121\n",
            "Epoch 65/500\n",
            "59/59 [==============================] - 0s 4ms/step - loss: 0.5598 - accuracy: 0.7039 - auc: 0.7610 - prc: 0.8028 - val_loss: 0.5515 - val_accuracy: 0.7118 - val_auc: 0.7692 - val_prc: 0.8121\n",
            "Epoch 66/500\n",
            "59/59 [==============================] - 0s 4ms/step - loss: 0.5598 - accuracy: 0.7040 - auc: 0.7611 - prc: 0.8028 - val_loss: 0.5515 - val_accuracy: 0.7118 - val_auc: 0.7692 - val_prc: 0.8121\n",
            "Epoch 67/500\n",
            "59/59 [==============================] - 0s 4ms/step - loss: 0.5598 - accuracy: 0.7040 - auc: 0.7611 - prc: 0.8028 - val_loss: 0.5514 - val_accuracy: 0.7120 - val_auc: 0.7692 - val_prc: 0.8121\n",
            "Epoch 68/500\n",
            "59/59 [==============================] - 0s 4ms/step - loss: 0.5598 - accuracy: 0.7039 - auc: 0.7611 - prc: 0.8028 - val_loss: 0.5514 - val_accuracy: 0.7121 - val_auc: 0.7693 - val_prc: 0.8122\n",
            "Epoch 69/500\n",
            "59/59 [==============================] - 0s 4ms/step - loss: 0.5598 - accuracy: 0.7040 - auc: 0.7611 - prc: 0.8029 - val_loss: 0.5514 - val_accuracy: 0.7121 - val_auc: 0.7693 - val_prc: 0.8122\n",
            "Epoch 70/500\n",
            "59/59 [==============================] - 0s 4ms/step - loss: 0.5597 - accuracy: 0.7040 - auc: 0.7611 - prc: 0.8029 - val_loss: 0.5514 - val_accuracy: 0.7121 - val_auc: 0.7693 - val_prc: 0.8122\n",
            "Epoch 71/500\n",
            "59/59 [==============================] - 0s 4ms/step - loss: 0.5597 - accuracy: 0.7040 - auc: 0.7611 - prc: 0.8029 - val_loss: 0.5514 - val_accuracy: 0.7119 - val_auc: 0.7693 - val_prc: 0.8122\n",
            "Epoch 72/500\n",
            "59/59 [==============================] - 0s 4ms/step - loss: 0.5597 - accuracy: 0.7040 - auc: 0.7611 - prc: 0.8029 - val_loss: 0.5514 - val_accuracy: 0.7120 - val_auc: 0.7693 - val_prc: 0.8122\n",
            "Epoch 73/500\n",
            "59/59 [==============================] - 0s 4ms/step - loss: 0.5597 - accuracy: 0.7040 - auc: 0.7611 - prc: 0.8029 - val_loss: 0.5513 - val_accuracy: 0.7120 - val_auc: 0.7693 - val_prc: 0.8122\n",
            "Epoch 74/500\n",
            "59/59 [==============================] - 0s 4ms/step - loss: 0.5597 - accuracy: 0.7040 - auc: 0.7612 - prc: 0.8029 - val_loss: 0.5513 - val_accuracy: 0.7120 - val_auc: 0.7693 - val_prc: 0.8122\n",
            "Epoch 75/500\n",
            "59/59 [==============================] - 0s 4ms/step - loss: 0.5597 - accuracy: 0.7040 - auc: 0.7612 - prc: 0.8029 - val_loss: 0.5513 - val_accuracy: 0.7120 - val_auc: 0.7693 - val_prc: 0.8122\n",
            "Epoch 76/500\n",
            "59/59 [==============================] - 0s 4ms/step - loss: 0.5597 - accuracy: 0.7040 - auc: 0.7612 - prc: 0.8029 - val_loss: 0.5513 - val_accuracy: 0.7120 - val_auc: 0.7693 - val_prc: 0.8122\n",
            "Epoch 77/500\n",
            "59/59 [==============================] - 0s 4ms/step - loss: 0.5597 - accuracy: 0.7039 - auc: 0.7612 - prc: 0.8029 - val_loss: 0.5513 - val_accuracy: 0.7120 - val_auc: 0.7694 - val_prc: 0.8122\n",
            "Epoch 78/500\n",
            "59/59 [==============================] - 0s 4ms/step - loss: 0.5596 - accuracy: 0.7039 - auc: 0.7612 - prc: 0.8029 - val_loss: 0.5513 - val_accuracy: 0.7120 - val_auc: 0.7694 - val_prc: 0.8122\n",
            "Epoch 79/500\n",
            "59/59 [==============================] - 0s 4ms/step - loss: 0.5596 - accuracy: 0.7040 - auc: 0.7612 - prc: 0.8029 - val_loss: 0.5513 - val_accuracy: 0.7120 - val_auc: 0.7694 - val_prc: 0.8122\n",
            "Epoch 80/500\n",
            "59/59 [==============================] - 0s 4ms/step - loss: 0.5596 - accuracy: 0.7040 - auc: 0.7612 - prc: 0.8029 - val_loss: 0.5513 - val_accuracy: 0.7120 - val_auc: 0.7694 - val_prc: 0.8122\n",
            "Epoch 81/500\n",
            "59/59 [==============================] - 0s 4ms/step - loss: 0.5596 - accuracy: 0.7039 - auc: 0.7612 - prc: 0.8029 - val_loss: 0.5513 - val_accuracy: 0.7120 - val_auc: 0.7694 - val_prc: 0.8123\n",
            "Epoch 82/500\n",
            "59/59 [==============================] - 0s 4ms/step - loss: 0.5596 - accuracy: 0.7039 - auc: 0.7612 - prc: 0.8029 - val_loss: 0.5513 - val_accuracy: 0.7120 - val_auc: 0.7694 - val_prc: 0.8123\n",
            "Epoch 83/500\n",
            "59/59 [==============================] - 0s 4ms/step - loss: 0.5596 - accuracy: 0.7039 - auc: 0.7612 - prc: 0.8029 - val_loss: 0.5512 - val_accuracy: 0.7120 - val_auc: 0.7694 - val_prc: 0.8123\n",
            "Epoch 84/500\n",
            "59/59 [==============================] - 0s 4ms/step - loss: 0.5596 - accuracy: 0.7039 - auc: 0.7612 - prc: 0.8029 - val_loss: 0.5512 - val_accuracy: 0.7120 - val_auc: 0.7694 - val_prc: 0.8123\n",
            "Epoch 85/500\n",
            "59/59 [==============================] - 0s 4ms/step - loss: 0.5596 - accuracy: 0.7039 - auc: 0.7612 - prc: 0.8029 - val_loss: 0.5512 - val_accuracy: 0.7120 - val_auc: 0.7694 - val_prc: 0.8123\n",
            "Epoch 86/500\n",
            "59/59 [==============================] - 0s 4ms/step - loss: 0.5596 - accuracy: 0.7039 - auc: 0.7612 - prc: 0.8029 - val_loss: 0.5512 - val_accuracy: 0.7120 - val_auc: 0.7694 - val_prc: 0.8123\n",
            "Epoch 87/500\n",
            "59/59 [==============================] - 0s 5ms/step - loss: 0.5596 - accuracy: 0.7039 - auc: 0.7612 - prc: 0.8029 - val_loss: 0.5512 - val_accuracy: 0.7120 - val_auc: 0.7694 - val_prc: 0.8123\n",
            "Epoch 88/500\n",
            "59/59 [==============================] - 0s 4ms/step - loss: 0.5596 - accuracy: 0.7039 - auc: 0.7612 - prc: 0.8029 - val_loss: 0.5512 - val_accuracy: 0.7120 - val_auc: 0.7694 - val_prc: 0.8123\n",
            "Epoch 89/500\n",
            "59/59 [==============================] - 0s 4ms/step - loss: 0.5596 - accuracy: 0.7039 - auc: 0.7612 - prc: 0.8029 - val_loss: 0.5512 - val_accuracy: 0.7120 - val_auc: 0.7694 - val_prc: 0.8123\n",
            "Epoch 90/500\n",
            "59/59 [==============================] - 0s 4ms/step - loss: 0.5596 - accuracy: 0.7038 - auc: 0.7612 - prc: 0.8030 - val_loss: 0.5512 - val_accuracy: 0.7119 - val_auc: 0.7694 - val_prc: 0.8123\n",
            "Epoch 91/500\n",
            "59/59 [==============================] - 0s 4ms/step - loss: 0.5596 - accuracy: 0.7039 - auc: 0.7612 - prc: 0.8030 - val_loss: 0.5512 - val_accuracy: 0.7119 - val_auc: 0.7694 - val_prc: 0.8123\n",
            "Epoch 92/500\n",
            "59/59 [==============================] - 0s 4ms/step - loss: 0.5596 - accuracy: 0.7039 - auc: 0.7612 - prc: 0.8030 - val_loss: 0.5512 - val_accuracy: 0.7119 - val_auc: 0.7694 - val_prc: 0.8123\n",
            "Epoch 93/500\n",
            "59/59 [==============================] - 0s 4ms/step - loss: 0.5596 - accuracy: 0.7039 - auc: 0.7612 - prc: 0.8030 - val_loss: 0.5512 - val_accuracy: 0.7119 - val_auc: 0.7694 - val_prc: 0.8123\n",
            "Epoch 94/500\n",
            "59/59 [==============================] - 0s 4ms/step - loss: 0.5596 - accuracy: 0.7039 - auc: 0.7612 - prc: 0.8030 - val_loss: 0.5512 - val_accuracy: 0.7119 - val_auc: 0.7694 - val_prc: 0.8123\n",
            "Epoch 95/500\n",
            "59/59 [==============================] - 0s 4ms/step - loss: 0.5596 - accuracy: 0.7039 - auc: 0.7612 - prc: 0.8030 - val_loss: 0.5512 - val_accuracy: 0.7119 - val_auc: 0.7694 - val_prc: 0.8123\n",
            "Epoch 96/500\n",
            "59/59 [==============================] - 0s 4ms/step - loss: 0.5596 - accuracy: 0.7039 - auc: 0.7612 - prc: 0.8030 - val_loss: 0.5512 - val_accuracy: 0.7119 - val_auc: 0.7694 - val_prc: 0.8123\n",
            "Epoch 97/500\n",
            "59/59 [==============================] - 0s 5ms/step - loss: 0.5596 - accuracy: 0.7038 - auc: 0.7612 - prc: 0.8030 - val_loss: 0.5512 - val_accuracy: 0.7119 - val_auc: 0.7694 - val_prc: 0.8123\n",
            "Epoch 98/500\n",
            "59/59 [==============================] - 0s 4ms/step - loss: 0.5596 - accuracy: 0.7039 - auc: 0.7612 - prc: 0.8030 - val_loss: 0.5512 - val_accuracy: 0.7120 - val_auc: 0.7694 - val_prc: 0.8123\n",
            "Epoch 99/500\n",
            "59/59 [==============================] - 0s 4ms/step - loss: 0.5596 - accuracy: 0.7039 - auc: 0.7612 - prc: 0.8030 - val_loss: 0.5512 - val_accuracy: 0.7121 - val_auc: 0.7694 - val_prc: 0.8123\n",
            "Epoch 100/500\n",
            "59/59 [==============================] - 0s 4ms/step - loss: 0.5596 - accuracy: 0.7039 - auc: 0.7612 - prc: 0.8030 - val_loss: 0.5512 - val_accuracy: 0.7121 - val_auc: 0.7694 - val_prc: 0.8123\n",
            "Epoch 101/500\n",
            "59/59 [==============================] - 0s 5ms/step - loss: 0.5595 - accuracy: 0.7039 - auc: 0.7612 - prc: 0.8030 - val_loss: 0.5512 - val_accuracy: 0.7121 - val_auc: 0.7694 - val_prc: 0.8123\n",
            "Epoch 102/500\n",
            "59/59 [==============================] - 0s 4ms/step - loss: 0.5595 - accuracy: 0.7039 - auc: 0.7612 - prc: 0.8030 - val_loss: 0.5512 - val_accuracy: 0.7121 - val_auc: 0.7694 - val_prc: 0.8123\n",
            "Epoch 103/500\n",
            "59/59 [==============================] - 0s 5ms/step - loss: 0.5595 - accuracy: 0.7039 - auc: 0.7612 - prc: 0.8030 - val_loss: 0.5512 - val_accuracy: 0.7121 - val_auc: 0.7694 - val_prc: 0.8123\n",
            "Epoch 104/500\n",
            "59/59 [==============================] - 0s 5ms/step - loss: 0.5595 - accuracy: 0.7039 - auc: 0.7612 - prc: 0.8030 - val_loss: 0.5512 - val_accuracy: 0.7121 - val_auc: 0.7694 - val_prc: 0.8123\n",
            "Epoch 105/500\n",
            "59/59 [==============================] - 0s 4ms/step - loss: 0.5595 - accuracy: 0.7039 - auc: 0.7612 - prc: 0.8029 - val_loss: 0.5512 - val_accuracy: 0.7121 - val_auc: 0.7694 - val_prc: 0.8123\n",
            "Epoch 106/500\n",
            "59/59 [==============================] - 0s 5ms/step - loss: 0.5595 - accuracy: 0.7039 - auc: 0.7612 - prc: 0.8029 - val_loss: 0.5512 - val_accuracy: 0.7121 - val_auc: 0.7694 - val_prc: 0.8123\n",
            "Epoch 107/500\n",
            "59/59 [==============================] - 0s 4ms/step - loss: 0.5595 - accuracy: 0.7039 - auc: 0.7612 - prc: 0.8029 - val_loss: 0.5512 - val_accuracy: 0.7121 - val_auc: 0.7694 - val_prc: 0.8123\n",
            "Epoch 108/500\n",
            "59/59 [==============================] - 0s 5ms/step - loss: 0.5595 - accuracy: 0.7039 - auc: 0.7612 - prc: 0.8029 - val_loss: 0.5512 - val_accuracy: 0.7121 - val_auc: 0.7694 - val_prc: 0.8123\n",
            "Epoch 109/500\n",
            "59/59 [==============================] - 0s 4ms/step - loss: 0.5595 - accuracy: 0.7039 - auc: 0.7612 - prc: 0.8029 - val_loss: 0.5512 - val_accuracy: 0.7121 - val_auc: 0.7694 - val_prc: 0.8123\n",
            "Epoch 110/500\n",
            "59/59 [==============================] - 0s 5ms/step - loss: 0.5595 - accuracy: 0.7039 - auc: 0.7612 - prc: 0.8029 - val_loss: 0.5512 - val_accuracy: 0.7121 - val_auc: 0.7694 - val_prc: 0.8123\n",
            "Epoch 111/500\n",
            "59/59 [==============================] - 0s 5ms/step - loss: 0.5595 - accuracy: 0.7039 - auc: 0.7612 - prc: 0.8029 - val_loss: 0.5512 - val_accuracy: 0.7121 - val_auc: 0.7694 - val_prc: 0.8123\n",
            "Epoch 112/500\n",
            "59/59 [==============================] - 0s 5ms/step - loss: 0.5595 - accuracy: 0.7039 - auc: 0.7612 - prc: 0.8029 - val_loss: 0.5512 - val_accuracy: 0.7121 - val_auc: 0.7694 - val_prc: 0.8123\n",
            "Epoch 113/500\n",
            "59/59 [==============================] - 0s 5ms/step - loss: 0.5595 - accuracy: 0.7039 - auc: 0.7612 - prc: 0.8029 - val_loss: 0.5512 - val_accuracy: 0.7121 - val_auc: 0.7694 - val_prc: 0.8123\n",
            "Epoch 114/500\n",
            "59/59 [==============================] - 0s 5ms/step - loss: 0.5595 - accuracy: 0.7039 - auc: 0.7612 - prc: 0.8029 - val_loss: 0.5512 - val_accuracy: 0.7121 - val_auc: 0.7694 - val_prc: 0.8123\n",
            "Epoch 115/500\n",
            "59/59 [==============================] - 0s 5ms/step - loss: 0.5595 - accuracy: 0.7039 - auc: 0.7612 - prc: 0.8029 - val_loss: 0.5512 - val_accuracy: 0.7121 - val_auc: 0.7694 - val_prc: 0.8123\n",
            "Epoch 116/500\n",
            "59/59 [==============================] - 0s 5ms/step - loss: 0.5595 - accuracy: 0.7039 - auc: 0.7612 - prc: 0.8029 - val_loss: 0.5512 - val_accuracy: 0.7121 - val_auc: 0.7694 - val_prc: 0.8123\n",
            "Epoch 117/500\n",
            "59/59 [==============================] - 0s 4ms/step - loss: 0.5595 - accuracy: 0.7039 - auc: 0.7612 - prc: 0.8029 - val_loss: 0.5512 - val_accuracy: 0.7121 - val_auc: 0.7694 - val_prc: 0.8123\n",
            "Epoch 118/500\n",
            "59/59 [==============================] - 0s 5ms/step - loss: 0.5595 - accuracy: 0.7039 - auc: 0.7612 - prc: 0.8029 - val_loss: 0.5512 - val_accuracy: 0.7121 - val_auc: 0.7694 - val_prc: 0.8123\n",
            "Epoch 119/500\n",
            "59/59 [==============================] - 0s 4ms/step - loss: 0.5595 - accuracy: 0.7039 - auc: 0.7612 - prc: 0.8029 - val_loss: 0.5511 - val_accuracy: 0.7121 - val_auc: 0.7694 - val_prc: 0.8123\n",
            "Epoch 120/500\n",
            "59/59 [==============================] - 0s 5ms/step - loss: 0.5595 - accuracy: 0.7039 - auc: 0.7612 - prc: 0.8029 - val_loss: 0.5511 - val_accuracy: 0.7121 - val_auc: 0.7694 - val_prc: 0.8123\n",
            "Epoch 121/500\n",
            "59/59 [==============================] - 0s 4ms/step - loss: 0.5595 - accuracy: 0.7039 - auc: 0.7612 - prc: 0.8029 - val_loss: 0.5511 - val_accuracy: 0.7121 - val_auc: 0.7694 - val_prc: 0.8123\n",
            "Epoch 122/500\n",
            "59/59 [==============================] - 0s 4ms/step - loss: 0.5595 - accuracy: 0.7039 - auc: 0.7612 - prc: 0.8029 - val_loss: 0.5511 - val_accuracy: 0.7121 - val_auc: 0.7694 - val_prc: 0.8123\n",
            "Epoch 123/500\n",
            "59/59 [==============================] - 0s 4ms/step - loss: 0.5595 - accuracy: 0.7039 - auc: 0.7612 - prc: 0.8029 - val_loss: 0.5511 - val_accuracy: 0.7121 - val_auc: 0.7694 - val_prc: 0.8123\n",
            "Epoch 124/500\n",
            "59/59 [==============================] - 0s 4ms/step - loss: 0.5595 - accuracy: 0.7039 - auc: 0.7612 - prc: 0.8029 - val_loss: 0.5511 - val_accuracy: 0.7121 - val_auc: 0.7694 - val_prc: 0.8123\n",
            "Epoch 125/500\n",
            "59/59 [==============================] - 0s 4ms/step - loss: 0.5595 - accuracy: 0.7039 - auc: 0.7612 - prc: 0.8029 - val_loss: 0.5511 - val_accuracy: 0.7121 - val_auc: 0.7694 - val_prc: 0.8123\n",
            "Epoch 126/500\n",
            "59/59 [==============================] - 0s 4ms/step - loss: 0.5595 - accuracy: 0.7039 - auc: 0.7612 - prc: 0.8029 - val_loss: 0.5511 - val_accuracy: 0.7121 - val_auc: 0.7694 - val_prc: 0.8123\n",
            "Epoch 127/500\n",
            "59/59 [==============================] - 0s 4ms/step - loss: 0.5595 - accuracy: 0.7039 - auc: 0.7612 - prc: 0.8029 - val_loss: 0.5511 - val_accuracy: 0.7121 - val_auc: 0.7694 - val_prc: 0.8123\n",
            "Epoch 128/500\n",
            "59/59 [==============================] - 0s 4ms/step - loss: 0.5595 - accuracy: 0.7039 - auc: 0.7612 - prc: 0.8029 - val_loss: 0.5511 - val_accuracy: 0.7121 - val_auc: 0.7694 - val_prc: 0.8123\n",
            "Epoch 129/500\n",
            "59/59 [==============================] - 0s 4ms/step - loss: 0.5595 - accuracy: 0.7039 - auc: 0.7612 - prc: 0.8029 - val_loss: 0.5511 - val_accuracy: 0.7121 - val_auc: 0.7694 - val_prc: 0.8123\n",
            "Epoch 130/500\n",
            "59/59 [==============================] - 0s 4ms/step - loss: 0.5595 - accuracy: 0.7039 - auc: 0.7612 - prc: 0.8029 - val_loss: 0.5511 - val_accuracy: 0.7121 - val_auc: 0.7694 - val_prc: 0.8123\n",
            "Epoch 131/500\n",
            "59/59 [==============================] - 0s 4ms/step - loss: 0.5595 - accuracy: 0.7038 - auc: 0.7612 - prc: 0.8029 - val_loss: 0.5511 - val_accuracy: 0.7121 - val_auc: 0.7694 - val_prc: 0.8123\n",
            "Epoch 132/500\n",
            "59/59 [==============================] - 0s 4ms/step - loss: 0.5595 - accuracy: 0.7038 - auc: 0.7612 - prc: 0.8029 - val_loss: 0.5511 - val_accuracy: 0.7121 - val_auc: 0.7694 - val_prc: 0.8123\n",
            "Epoch 133/500\n",
            "59/59 [==============================] - 0s 4ms/step - loss: 0.5595 - accuracy: 0.7038 - auc: 0.7612 - prc: 0.8029 - val_loss: 0.5511 - val_accuracy: 0.7121 - val_auc: 0.7694 - val_prc: 0.8123\n",
            "Epoch 134/500\n",
            "59/59 [==============================] - 0s 4ms/step - loss: 0.5595 - accuracy: 0.7038 - auc: 0.7612 - prc: 0.8029 - val_loss: 0.5511 - val_accuracy: 0.7121 - val_auc: 0.7694 - val_prc: 0.8123\n",
            "Epoch 135/500\n",
            "59/59 [==============================] - 0s 4ms/step - loss: 0.5595 - accuracy: 0.7038 - auc: 0.7612 - prc: 0.8029 - val_loss: 0.5511 - val_accuracy: 0.7121 - val_auc: 0.7694 - val_prc: 0.8123\n",
            "Epoch 136/500\n",
            "59/59 [==============================] - 0s 4ms/step - loss: 0.5595 - accuracy: 0.7038 - auc: 0.7612 - prc: 0.8029 - val_loss: 0.5511 - val_accuracy: 0.7121 - val_auc: 0.7694 - val_prc: 0.8123\n",
            "Epoch 137/500\n",
            "59/59 [==============================] - 0s 4ms/step - loss: 0.5595 - accuracy: 0.7038 - auc: 0.7612 - prc: 0.8029 - val_loss: 0.5511 - val_accuracy: 0.7121 - val_auc: 0.7694 - val_prc: 0.8123\n",
            "Epoch 138/500\n",
            "59/59 [==============================] - 0s 4ms/step - loss: 0.5595 - accuracy: 0.7038 - auc: 0.7612 - prc: 0.8029 - val_loss: 0.5511 - val_accuracy: 0.7121 - val_auc: 0.7694 - val_prc: 0.8123\n",
            "Epoch 139/500\n",
            "59/59 [==============================] - 0s 4ms/step - loss: 0.5595 - accuracy: 0.7038 - auc: 0.7612 - prc: 0.8029 - val_loss: 0.5511 - val_accuracy: 0.7121 - val_auc: 0.7694 - val_prc: 0.8123\n",
            "Epoch 140/500\n",
            "59/59 [==============================] - 0s 4ms/step - loss: 0.5595 - accuracy: 0.7038 - auc: 0.7612 - prc: 0.8029 - val_loss: 0.5511 - val_accuracy: 0.7121 - val_auc: 0.7694 - val_prc: 0.8123\n",
            "Epoch 141/500\n",
            "59/59 [==============================] - 0s 4ms/step - loss: 0.5595 - accuracy: 0.7038 - auc: 0.7612 - prc: 0.8029 - val_loss: 0.5511 - val_accuracy: 0.7121 - val_auc: 0.7694 - val_prc: 0.8123\n",
            "Epoch 142/500\n",
            "59/59 [==============================] - 0s 4ms/step - loss: 0.5595 - accuracy: 0.7037 - auc: 0.7612 - prc: 0.8029 - val_loss: 0.5511 - val_accuracy: 0.7121 - val_auc: 0.7694 - val_prc: 0.8123\n",
            "Epoch 143/500\n",
            "59/59 [==============================] - 0s 4ms/step - loss: 0.5595 - accuracy: 0.7038 - auc: 0.7612 - prc: 0.8029 - val_loss: 0.5511 - val_accuracy: 0.7121 - val_auc: 0.7694 - val_prc: 0.8123\n",
            "Epoch 144/500\n",
            "59/59 [==============================] - 0s 4ms/step - loss: 0.5595 - accuracy: 0.7038 - auc: 0.7612 - prc: 0.8029 - val_loss: 0.5511 - val_accuracy: 0.7121 - val_auc: 0.7694 - val_prc: 0.8123\n",
            "Epoch 145/500\n",
            "59/59 [==============================] - 0s 5ms/step - loss: 0.5595 - accuracy: 0.7038 - auc: 0.7612 - prc: 0.8029 - val_loss: 0.5511 - val_accuracy: 0.7121 - val_auc: 0.7694 - val_prc: 0.8123\n",
            "Epoch 146/500\n",
            "59/59 [==============================] - 0s 4ms/step - loss: 0.5595 - accuracy: 0.7038 - auc: 0.7612 - prc: 0.8029 - val_loss: 0.5511 - val_accuracy: 0.7121 - val_auc: 0.7695 - val_prc: 0.8123\n",
            "Epoch 147/500\n",
            "59/59 [==============================] - 0s 4ms/step - loss: 0.5595 - accuracy: 0.7037 - auc: 0.7612 - prc: 0.8029 - val_loss: 0.5511 - val_accuracy: 0.7121 - val_auc: 0.7694 - val_prc: 0.8123\n",
            "Epoch 148/500\n",
            "59/59 [==============================] - 0s 4ms/step - loss: 0.5595 - accuracy: 0.7038 - auc: 0.7612 - prc: 0.8029 - val_loss: 0.5511 - val_accuracy: 0.7121 - val_auc: 0.7695 - val_prc: 0.8123\n",
            "Epoch 149/500\n",
            "59/59 [==============================] - 0s 4ms/step - loss: 0.5595 - accuracy: 0.7037 - auc: 0.7612 - prc: 0.8029 - val_loss: 0.5511 - val_accuracy: 0.7121 - val_auc: 0.7695 - val_prc: 0.8123\n",
            "Epoch 150/500\n",
            "59/59 [==============================] - 0s 4ms/step - loss: 0.5595 - accuracy: 0.7037 - auc: 0.7612 - prc: 0.8029 - val_loss: 0.5511 - val_accuracy: 0.7121 - val_auc: 0.7695 - val_prc: 0.8123\n",
            "Epoch 151/500\n",
            "59/59 [==============================] - 0s 4ms/step - loss: 0.5595 - accuracy: 0.7037 - auc: 0.7612 - prc: 0.8029 - val_loss: 0.5511 - val_accuracy: 0.7121 - val_auc: 0.7695 - val_prc: 0.8123\n",
            "Epoch 152/500\n",
            "59/59 [==============================] - 0s 4ms/step - loss: 0.5595 - accuracy: 0.7037 - auc: 0.7612 - prc: 0.8029 - val_loss: 0.5511 - val_accuracy: 0.7121 - val_auc: 0.7695 - val_prc: 0.8123\n",
            "Epoch 153/500\n",
            "59/59 [==============================] - 0s 4ms/step - loss: 0.5595 - accuracy: 0.7037 - auc: 0.7612 - prc: 0.8029 - val_loss: 0.5511 - val_accuracy: 0.7121 - val_auc: 0.7695 - val_prc: 0.8123\n",
            "Epoch 154/500\n",
            "59/59 [==============================] - 0s 4ms/step - loss: 0.5595 - accuracy: 0.7037 - auc: 0.7612 - prc: 0.8029 - val_loss: 0.5511 - val_accuracy: 0.7121 - val_auc: 0.7695 - val_prc: 0.8123\n",
            "Epoch 155/500\n",
            "59/59 [==============================] - 0s 4ms/step - loss: 0.5595 - accuracy: 0.7037 - auc: 0.7612 - prc: 0.8029 - val_loss: 0.5511 - val_accuracy: 0.7121 - val_auc: 0.7695 - val_prc: 0.8123\n",
            "Epoch 156/500\n",
            "59/59 [==============================] - 0s 4ms/step - loss: 0.5595 - accuracy: 0.7038 - auc: 0.7612 - prc: 0.8029 - val_loss: 0.5511 - val_accuracy: 0.7121 - val_auc: 0.7695 - val_prc: 0.8123\n",
            "Epoch 157/500\n",
            "59/59 [==============================] - 0s 4ms/step - loss: 0.5595 - accuracy: 0.7038 - auc: 0.7612 - prc: 0.8029 - val_loss: 0.5511 - val_accuracy: 0.7121 - val_auc: 0.7695 - val_prc: 0.8123\n",
            "Epoch 158/500\n",
            "59/59 [==============================] - 0s 4ms/step - loss: 0.5595 - accuracy: 0.7038 - auc: 0.7612 - prc: 0.8029 - val_loss: 0.5511 - val_accuracy: 0.7121 - val_auc: 0.7695 - val_prc: 0.8123\n",
            "Epoch 159/500\n",
            "59/59 [==============================] - 0s 4ms/step - loss: 0.5595 - accuracy: 0.7038 - auc: 0.7612 - prc: 0.8029 - val_loss: 0.5511 - val_accuracy: 0.7121 - val_auc: 0.7695 - val_prc: 0.8123\n",
            "Epoch 160/500\n",
            "59/59 [==============================] - 0s 4ms/step - loss: 0.5595 - accuracy: 0.7038 - auc: 0.7612 - prc: 0.8029 - val_loss: 0.5511 - val_accuracy: 0.7121 - val_auc: 0.7695 - val_prc: 0.8123\n",
            "Epoch 161/500\n",
            "59/59 [==============================] - 0s 4ms/step - loss: 0.5595 - accuracy: 0.7038 - auc: 0.7612 - prc: 0.8029 - val_loss: 0.5511 - val_accuracy: 0.7121 - val_auc: 0.7695 - val_prc: 0.8123\n",
            "Epoch 162/500\n",
            "59/59 [==============================] - 0s 4ms/step - loss: 0.5595 - accuracy: 0.7038 - auc: 0.7612 - prc: 0.8029 - val_loss: 0.5511 - val_accuracy: 0.7121 - val_auc: 0.7695 - val_prc: 0.8123\n",
            "Epoch 163/500\n",
            "59/59 [==============================] - 0s 4ms/step - loss: 0.5595 - accuracy: 0.7038 - auc: 0.7612 - prc: 0.8029 - val_loss: 0.5511 - val_accuracy: 0.7121 - val_auc: 0.7695 - val_prc: 0.8123\n",
            "Epoch 164/500\n",
            "59/59 [==============================] - 0s 4ms/step - loss: 0.5595 - accuracy: 0.7038 - auc: 0.7612 - prc: 0.8029 - val_loss: 0.5511 - val_accuracy: 0.7121 - val_auc: 0.7695 - val_prc: 0.8123\n",
            "Epoch 165/500\n",
            "59/59 [==============================] - 0s 4ms/step - loss: 0.5595 - accuracy: 0.7038 - auc: 0.7612 - prc: 0.8029 - val_loss: 0.5511 - val_accuracy: 0.7121 - val_auc: 0.7695 - val_prc: 0.8123\n",
            "Epoch 166/500\n",
            "59/59 [==============================] - 0s 5ms/step - loss: 0.5595 - accuracy: 0.7038 - auc: 0.7612 - prc: 0.8029 - val_loss: 0.5511 - val_accuracy: 0.7121 - val_auc: 0.7695 - val_prc: 0.8123\n",
            "Epoch 167/500\n",
            "59/59 [==============================] - 0s 4ms/step - loss: 0.5595 - accuracy: 0.7038 - auc: 0.7612 - prc: 0.8029 - val_loss: 0.5511 - val_accuracy: 0.7121 - val_auc: 0.7695 - val_prc: 0.8123\n",
            "Epoch 168/500\n",
            "59/59 [==============================] - 0s 4ms/step - loss: 0.5595 - accuracy: 0.7038 - auc: 0.7612 - prc: 0.8029 - val_loss: 0.5511 - val_accuracy: 0.7121 - val_auc: 0.7695 - val_prc: 0.8123\n",
            "Epoch 169/500\n",
            "59/59 [==============================] - 0s 4ms/step - loss: 0.5595 - accuracy: 0.7038 - auc: 0.7612 - prc: 0.8029 - val_loss: 0.5511 - val_accuracy: 0.7121 - val_auc: 0.7695 - val_prc: 0.8123\n",
            "Epoch 170/500\n",
            "59/59 [==============================] - 0s 4ms/step - loss: 0.5595 - accuracy: 0.7038 - auc: 0.7612 - prc: 0.8029 - val_loss: 0.5511 - val_accuracy: 0.7121 - val_auc: 0.7695 - val_prc: 0.8123\n",
            "Epoch 171/500\n",
            "59/59 [==============================] - 0s 4ms/step - loss: 0.5595 - accuracy: 0.7038 - auc: 0.7612 - prc: 0.8029 - val_loss: 0.5511 - val_accuracy: 0.7121 - val_auc: 0.7695 - val_prc: 0.8123\n",
            "Epoch 172/500\n",
            "59/59 [==============================] - 0s 4ms/step - loss: 0.5595 - accuracy: 0.7038 - auc: 0.7612 - prc: 0.8029 - val_loss: 0.5511 - val_accuracy: 0.7121 - val_auc: 0.7695 - val_prc: 0.8123\n",
            "Epoch 173/500\n",
            "59/59 [==============================] - 0s 4ms/step - loss: 0.5595 - accuracy: 0.7038 - auc: 0.7612 - prc: 0.8029 - val_loss: 0.5511 - val_accuracy: 0.7121 - val_auc: 0.7695 - val_prc: 0.8123\n",
            "Epoch 174/500\n",
            "59/59 [==============================] - 0s 4ms/step - loss: 0.5595 - accuracy: 0.7038 - auc: 0.7612 - prc: 0.8029 - val_loss: 0.5511 - val_accuracy: 0.7121 - val_auc: 0.7695 - val_prc: 0.8123\n",
            "Epoch 175/500\n",
            "59/59 [==============================] - 0s 5ms/step - loss: 0.5595 - accuracy: 0.7038 - auc: 0.7612 - prc: 0.8029 - val_loss: 0.5511 - val_accuracy: 0.7121 - val_auc: 0.7695 - val_prc: 0.8123\n",
            "Epoch 176/500\n",
            "59/59 [==============================] - 0s 4ms/step - loss: 0.5595 - accuracy: 0.7038 - auc: 0.7612 - prc: 0.8029 - val_loss: 0.5511 - val_accuracy: 0.7121 - val_auc: 0.7695 - val_prc: 0.8123\n",
            "Epoch 177/500\n",
            "59/59 [==============================] - 0s 4ms/step - loss: 0.5595 - accuracy: 0.7038 - auc: 0.7612 - prc: 0.8029 - val_loss: 0.5511 - val_accuracy: 0.7121 - val_auc: 0.7695 - val_prc: 0.8123\n",
            "Epoch 178/500\n",
            "59/59 [==============================] - 0s 5ms/step - loss: 0.5595 - accuracy: 0.7038 - auc: 0.7612 - prc: 0.8029 - val_loss: 0.5511 - val_accuracy: 0.7121 - val_auc: 0.7695 - val_prc: 0.8123\n",
            "Epoch 179/500\n",
            "59/59 [==============================] - 0s 4ms/step - loss: 0.5595 - accuracy: 0.7038 - auc: 0.7612 - prc: 0.8029 - val_loss: 0.5511 - val_accuracy: 0.7121 - val_auc: 0.7695 - val_prc: 0.8123\n",
            "Epoch 180/500\n",
            "59/59 [==============================] - 0s 4ms/step - loss: 0.5595 - accuracy: 0.7038 - auc: 0.7613 - prc: 0.8029 - val_loss: 0.5511 - val_accuracy: 0.7121 - val_auc: 0.7695 - val_prc: 0.8123\n",
            "Epoch 181/500\n",
            "59/59 [==============================] - 0s 4ms/step - loss: 0.5595 - accuracy: 0.7038 - auc: 0.7613 - prc: 0.8029 - val_loss: 0.5511 - val_accuracy: 0.7121 - val_auc: 0.7695 - val_prc: 0.8123\n",
            "Epoch 182/500\n",
            "59/59 [==============================] - 0s 4ms/step - loss: 0.5595 - accuracy: 0.7038 - auc: 0.7613 - prc: 0.8029 - val_loss: 0.5511 - val_accuracy: 0.7121 - val_auc: 0.7695 - val_prc: 0.8123\n",
            "Epoch 183/500\n",
            "59/59 [==============================] - 0s 4ms/step - loss: 0.5595 - accuracy: 0.7038 - auc: 0.7613 - prc: 0.8029 - val_loss: 0.5511 - val_accuracy: 0.7121 - val_auc: 0.7695 - val_prc: 0.8123\n",
            "Epoch 184/500\n",
            "59/59 [==============================] - 0s 4ms/step - loss: 0.5595 - accuracy: 0.7038 - auc: 0.7613 - prc: 0.8029 - val_loss: 0.5511 - val_accuracy: 0.7121 - val_auc: 0.7695 - val_prc: 0.8123\n",
            "Epoch 185/500\n",
            "59/59 [==============================] - 0s 5ms/step - loss: 0.5595 - accuracy: 0.7038 - auc: 0.7613 - prc: 0.8029 - val_loss: 0.5511 - val_accuracy: 0.7121 - val_auc: 0.7695 - val_prc: 0.8123\n",
            "Restoring model weights from the end of the best epoch.\n",
            "Epoch 00185: early stopping\n"
          ],
          "name": "stdout"
        },
        {
          "output_type": "execute_result",
          "data": {
            "text/plain": [
              "<tensorflow.python.keras.callbacks.History at 0x7f20e0add0d0>"
            ]
          },
          "metadata": {
            "tags": []
          },
          "execution_count": 25
        }
      ]
    },
    {
      "cell_type": "code",
      "metadata": {
        "id": "hVfkfveWd7Ys",
        "colab": {
          "base_uri": "https://localhost:8080/"
        },
        "outputId": "25a3ea04-8770-4196-b5ca-be4cfc7ad4f8"
      },
      "source": [
        "results.append(('Small DNN', roc_auc_score(y_test,model.predict(X_test)))) \n",
        "print(results[-1])"
      ],
      "execution_count": null,
      "outputs": [
        {
          "output_type": "stream",
          "text": [
            "('Small DNN', 0.7689493302090246)\n"
          ],
          "name": "stdout"
        }
      ]
    },
    {
      "cell_type": "code",
      "metadata": {
        "id": "hsUmWSUYQWl2",
        "colab": {
          "base_uri": "https://localhost:8080/"
        },
        "outputId": "887f74f1-7187-4b54-eccc-59742a670ab4"
      },
      "source": [
        "print(results)"
      ],
      "execution_count": null,
      "outputs": [
        {
          "output_type": "stream",
          "text": [
            "[('Initial DNN', 0.7803878280326728), ('Flattened DNN', 0.7860829768619458), ('Small DNN', 0.7689493302090246)]\n"
          ],
          "name": "stdout"
        }
      ]
    },
    {
      "cell_type": "code",
      "metadata": {
        "id": "iJx9EVx2d7Yt"
      },
      "source": [
        "#saving untrained flattened model\n",
        "with open(\"untrained_model.pkl\", \"wb\") as output:\n",
        "    joblib.dump(flatten_model, output)\n",
        "\n",
        "with open(\"trained_model.pkl\", \"wb\") as output:\n",
        "    joblib.dump(clf_flatten, output)"
      ],
      "execution_count": null,
      "outputs": []
    },
    {
      "cell_type": "code",
      "metadata": {
        "id": "KJUmYW0qd7Yt"
      },
      "source": [],
      "execution_count": 1,
      "outputs": []
    },
    {
      "source": [
        "# Interpretation of test cases"
      ],
      "cell_type": "markdown",
      "metadata": {}
    },
    {
      "cell_type": "code",
      "execution_count": null,
      "metadata": {},
      "outputs": [],
      "source": [
        "def save_figure(fig, filename):\n",
        "    filename = './plots/' + filename\n",
        "    fig.savefig(filename, transparent=False)\n",
        "    mpld3.save_html(fig, filename+\".html\", template_type='simple')\n",
        "    mpld3.save_json(fig, filename+\".json\")"
      ]
    },
    {
      "cell_type": "code",
      "execution_count": null,
      "metadata": {},
      "outputs": [],
      "source": [
        "# import lime\n",
        "# from lime import lime_tabular\n",
        "\n",
        "explainer = lime_tabular.LimeTabularExplainer(\n",
        "    training_data=np.array(X_train),\n",
        "    feature_names=fnames,\n",
        "    class_names=['will default', 'will repay'],\n",
        "    mode='classification',\n",
        "    verbose=1\n",
        ")"
      ]
    },
    {
      "cell_type": "code",
      "execution_count": null,
      "metadata": {},
      "outputs": [],
      "source": [
        "import dill as pick\n"
      ]
    },
    {
      "cell_type": "code",
      "execution_count": null,
      "metadata": {},
      "outputs": [],
      "source": [
        "#save explainer\n",
        "with open('explainer.pkl', 'wb') as output:\n",
        "    pick.dump(explainer, output)"
      ]
    },
    {
      "cell_type": "code",
      "execution_count": null,
      "metadata": {},
      "outputs": [],
      "source": [
        "#read explainer\n",
        "with open('explainer.pkl', 'rb') as input:\n",
        "  expl = pick.load(input)"
      ]
    },
    {
      "cell_type": "code",
      "execution_count": null,
      "metadata": {},
      "outputs": [],
      "source": [
        "a = X_test.loc[X_test['AMT_CREDIT'] == 0]\n",
        "len(a)"
      ]
    },
    {
      "cell_type": "code",
      "execution_count": null,
      "metadata": {},
      "outputs": [],
      "source": [
        "exp = expl.explain_instance(\n",
        "    data_row=X_test.iloc[2], \n",
        "    predict_fn=clf_flatten.predict_proba,\n",
        "    # num_features=5\n",
        ")\n",
        "\n",
        "exp.show_in_notebook(show_table=True)\n"
      ]
    },
    {
      "cell_type": "code",
      "execution_count": null,
      "metadata": {},
      "outputs": [],
      "source": [
        "def individual_interpretation(X_test, clf_flatten, applicationID):\n",
        "  data_row = X_test.loc[X_test['Application_ID'] == applicationID]\n",
        "  if len(data_row) == 0:\n",
        "    return -1\n",
        "  exp = explainer.explain_instance(\n",
        "      data_row=data_row,\n",
        "      predict_fn=clf_flatten.predict_proba\n",
        "  )\n",
        "  fig = exp.as_pyplot_figure()\n",
        "  save_figure(fig, 'Interpretation' + str(applicatoinID))"
      ]
    },
    {
      "cell_type": "code",
      "execution_count": null,
      "metadata": {},
      "outputs": [],
      "source": [
        "# exp.as_html()"
      ]
    },
    {
      "cell_type": "code",
      "execution_count": null,
      "metadata": {},
      "outputs": [],
      "source": [
        "# exp.as_list()"
      ]
    },
    {
      "cell_type": "code",
      "execution_count": null,
      "metadata": {},
      "outputs": [],
      "source": [
        "# exp.as_map()"
      ]
    },
    {
      "cell_type": "code",
      "execution_count": null,
      "metadata": {},
      "outputs": [],
      "source": [
        "fig = exp.as_pyplot_figure()"
      ]
    },
    {
      "cell_type": "code",
      "execution_count": null,
      "metadata": {},
      "outputs": [],
      "source": [
        "save_figure(fig, 'Interpretation')"
      ]
    },
    {
      "cell_type": "code",
      "execution_count": null,
      "metadata": {},
      "outputs": [],
      "source": [
        "#this notebook saves 5 pickle files\n",
        "# 2 files for pretrained test data\n",
        "# 1 file for grid\n",
        "# 1 file for trained model\n",
        "# 1 file for untrained model"
      ]
    }
  ]
}